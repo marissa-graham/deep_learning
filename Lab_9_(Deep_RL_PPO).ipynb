{
  "nbformat": 4,
  "nbformat_minor": 0,
  "metadata": {
    "colab": {
      "name": "Lab 9 (Deep RL--PPO).ipynb",
      "version": "0.3.2",
      "provenance": [],
      "include_colab_link": true
    },
    "kernelspec": {
      "name": "python3",
      "display_name": "Python 3"
    },
    "accelerator": "GPU"
  },
  "cells": [
    {
      "cell_type": "markdown",
      "metadata": {
        "id": "view-in-github",
        "colab_type": "text"
      },
      "source": [
        "<a href=\"https://colab.research.google.com/github/marissa-graham/deep_learning/blob/master/Lab_9_(Deep_RL_PPO).ipynb\" target=\"_parent\"><img src=\"https://colab.research.google.com/assets/colab-badge.svg\" alt=\"Open In Colab\"/></a>"
      ]
    },
    {
      "metadata": {
        "id": "LlUnsiADj_ux",
        "colab_type": "text"
      },
      "cell_type": "markdown",
      "source": [
        "# Installs and imports"
      ]
    },
    {
      "metadata": {
        "id": "6JLDavyCj_Xa",
        "colab_type": "code",
        "outputId": "b4daf8dc-8aa9-414b-9605-1e5aa586da69",
        "colab": {
          "base_uri": "https://localhost:8080/",
          "height": 1314
        }
      },
      "cell_type": "code",
      "source": [
        "!pip3 install gym torch torchvision tqdm\n",
        "!pip install box2d-py\n",
        "!pip install gym[Box_2D] \n",
        "!pip install gym[atari]"
      ],
      "execution_count": 0,
      "outputs": [
        {
          "output_type": "stream",
          "text": [
            "Collecting gym\n",
            "\u001b[?25l  Downloading https://files.pythonhosted.org/packages/d4/22/4ff09745ade385ffe707fb5f053548f0f6a6e7d5e98a2b9d6c07f5b931a7/gym-0.10.9.tar.gz (1.5MB)\n",
            "\u001b[K    100% |████████████████████████████████| 1.5MB 15.6MB/s \n",
            "\u001b[?25hCollecting torch\n",
            "\u001b[?25l  Downloading https://files.pythonhosted.org/packages/7e/60/66415660aa46b23b5e1b72bc762e816736ce8d7260213e22365af51e8f9c/torch-1.0.0-cp36-cp36m-manylinux1_x86_64.whl (591.8MB)\n",
            "\u001b[K    100% |████████████████████████████████| 591.8MB 29kB/s \n",
            "tcmalloc: large alloc 1073750016 bytes == 0x6123c000 @  0x7f0a04a582a4 0x591a07 0x5b5d56 0x502e9a 0x506859 0x502209 0x502f3d 0x506859 0x504c28 0x502540 0x502f3d 0x506859 0x504c28 0x502540 0x502f3d 0x506859 0x504c28 0x502540 0x502f3d 0x507641 0x502209 0x502f3d 0x506859 0x504c28 0x502540 0x502f3d 0x507641 0x504c28 0x502540 0x502f3d 0x507641\n",
            "\u001b[?25hCollecting torchvision\n",
            "\u001b[?25l  Downloading https://files.pythonhosted.org/packages/ca/0d/f00b2885711e08bd71242ebe7b96561e6f6d01fdb4b9dcf4d37e2e13c5e1/torchvision-0.2.1-py2.py3-none-any.whl (54kB)\n",
            "\u001b[K    100% |████████████████████████████████| 61kB 22.6MB/s \n",
            "\u001b[?25hRequirement already satisfied: tqdm in /usr/local/lib/python3.6/dist-packages (4.28.1)\n",
            "Requirement already satisfied: scipy in /usr/local/lib/python3.6/dist-packages (from gym) (1.1.0)\n",
            "Requirement already satisfied: numpy>=1.10.4 in /usr/local/lib/python3.6/dist-packages (from gym) (1.14.6)\n",
            "Requirement already satisfied: requests>=2.0 in /usr/local/lib/python3.6/dist-packages (from gym) (2.18.4)\n",
            "Requirement already satisfied: six in /usr/local/lib/python3.6/dist-packages (from gym) (1.11.0)\n",
            "Collecting pyglet>=1.2.0 (from gym)\n",
            "\u001b[?25l  Downloading https://files.pythonhosted.org/packages/1c/fc/dad5eaaab68f0c21e2f906a94ddb98175662cc5a654eee404d59554ce0fa/pyglet-1.3.2-py2.py3-none-any.whl (1.0MB)\n",
            "\u001b[K    100% |████████████████████████████████| 1.0MB 4.5MB/s \n",
            "\u001b[?25hCollecting pillow>=4.1.1 (from torchvision)\n",
            "\u001b[?25l  Downloading https://files.pythonhosted.org/packages/62/94/5430ebaa83f91cc7a9f687ff5238e26164a779cca2ef9903232268b0a318/Pillow-5.3.0-cp36-cp36m-manylinux1_x86_64.whl (2.0MB)\n",
            "\u001b[K    100% |████████████████████████████████| 2.0MB 4.5MB/s \n",
            "\u001b[?25hRequirement already satisfied: urllib3<1.23,>=1.21.1 in /usr/local/lib/python3.6/dist-packages (from requests>=2.0->gym) (1.22)\n",
            "Requirement already satisfied: idna<2.7,>=2.5 in /usr/local/lib/python3.6/dist-packages (from requests>=2.0->gym) (2.6)\n",
            "Requirement already satisfied: chardet<3.1.0,>=3.0.2 in /usr/local/lib/python3.6/dist-packages (from requests>=2.0->gym) (3.0.4)\n",
            "Requirement already satisfied: certifi>=2017.4.17 in /usr/local/lib/python3.6/dist-packages (from requests>=2.0->gym) (2018.11.29)\n",
            "Requirement already satisfied: future in /usr/local/lib/python3.6/dist-packages (from pyglet>=1.2.0->gym) (0.16.0)\n",
            "Building wheels for collected packages: gym\n",
            "  Running setup.py bdist_wheel for gym ... \u001b[?25l-\b \b\\\b \b|\b \b/\b \bdone\n",
            "\u001b[?25h  Stored in directory: /root/.cache/pip/wheels/6c/3a/0e/b86dee98876bb56cdb482cc1f72201035e46d1baf69d10d028\n",
            "Successfully built gym\n",
            "Installing collected packages: pyglet, gym, torch, pillow, torchvision\n",
            "  Found existing installation: Pillow 4.0.0\n",
            "    Uninstalling Pillow-4.0.0:\n",
            "      Successfully uninstalled Pillow-4.0.0\n",
            "Successfully installed gym-0.10.9 pillow-5.3.0 pyglet-1.3.2 torch-1.0.0 torchvision-0.2.1\n",
            "Collecting box2d-py\n",
            "\u001b[?25l  Downloading https://files.pythonhosted.org/packages/06/bd/6cdc3fd994b0649dcf5d9bad85bd9e26172308bbe9a421bfc6fdbf5081a6/box2d_py-2.3.8-cp36-cp36m-manylinux1_x86_64.whl (448kB)\n",
            "\u001b[K    100% |████████████████████████████████| 450kB 9.7MB/s \n",
            "\u001b[?25hInstalling collected packages: box2d-py\n",
            "Successfully installed box2d-py-2.3.8\n",
            "Requirement already satisfied: gym[Box_2D] in /usr/local/lib/python3.6/dist-packages (0.10.9)\n",
            "\u001b[33m  gym 0.10.9 does not provide the extra 'box_2d'\u001b[0m\n",
            "Requirement already satisfied: scipy in /usr/local/lib/python3.6/dist-packages (from gym[Box_2D]) (1.1.0)\n",
            "Requirement already satisfied: pyglet>=1.2.0 in /usr/local/lib/python3.6/dist-packages (from gym[Box_2D]) (1.3.2)\n",
            "Requirement already satisfied: numpy>=1.10.4 in /usr/local/lib/python3.6/dist-packages (from gym[Box_2D]) (1.14.6)\n",
            "Requirement already satisfied: six in /usr/local/lib/python3.6/dist-packages (from gym[Box_2D]) (1.11.0)\n",
            "Requirement already satisfied: requests>=2.0 in /usr/local/lib/python3.6/dist-packages (from gym[Box_2D]) (2.18.4)\n",
            "Requirement already satisfied: future in /usr/local/lib/python3.6/dist-packages (from pyglet>=1.2.0->gym[Box_2D]) (0.16.0)\n",
            "Requirement already satisfied: urllib3<1.23,>=1.21.1 in /usr/local/lib/python3.6/dist-packages (from requests>=2.0->gym[Box_2D]) (1.22)\n",
            "Requirement already satisfied: idna<2.7,>=2.5 in /usr/local/lib/python3.6/dist-packages (from requests>=2.0->gym[Box_2D]) (2.6)\n",
            "Requirement already satisfied: chardet<3.1.0,>=3.0.2 in /usr/local/lib/python3.6/dist-packages (from requests>=2.0->gym[Box_2D]) (3.0.4)\n",
            "Requirement already satisfied: certifi>=2017.4.17 in /usr/local/lib/python3.6/dist-packages (from requests>=2.0->gym[Box_2D]) (2018.11.29)\n",
            "Requirement already satisfied: gym[atari] in /usr/local/lib/python3.6/dist-packages (0.10.9)\n",
            "Requirement already satisfied: requests>=2.0 in /usr/local/lib/python3.6/dist-packages (from gym[atari]) (2.18.4)\n",
            "Requirement already satisfied: pyglet>=1.2.0 in /usr/local/lib/python3.6/dist-packages (from gym[atari]) (1.3.2)\n",
            "Requirement already satisfied: scipy in /usr/local/lib/python3.6/dist-packages (from gym[atari]) (1.1.0)\n",
            "Requirement already satisfied: numpy>=1.10.4 in /usr/local/lib/python3.6/dist-packages (from gym[atari]) (1.14.6)\n",
            "Requirement already satisfied: six in /usr/local/lib/python3.6/dist-packages (from gym[atari]) (1.11.0)\n",
            "Requirement already satisfied: Pillow; extra == \"atari\" in /usr/local/lib/python3.6/dist-packages (from gym[atari]) (5.3.0)\n",
            "Collecting atari-py>=0.1.4; extra == \"atari\" (from gym[atari])\n",
            "\u001b[?25l  Downloading https://files.pythonhosted.org/packages/12/23/96ce488af867646277d91c3c9a1f328a5452240fe51df0a5fdf9211d76e0/atari_py-0.1.7-cp36-cp36m-manylinux1_x86_64.whl (2.6MB)\n",
            "\u001b[K    100% |████████████████████████████████| 2.6MB 9.3MB/s \n",
            "\u001b[?25hCollecting PyOpenGL; extra == \"atari\" (from gym[atari])\n",
            "\u001b[?25l  Downloading https://files.pythonhosted.org/packages/9c/1d/4544708aaa89f26c97cc09450bb333a23724a320923e74d73e028b3560f9/PyOpenGL-3.1.0.tar.gz (1.2MB)\n",
            "\u001b[K    100% |████████████████████████████████| 1.2MB 19.1MB/s \n",
            "\u001b[?25hRequirement already satisfied: certifi>=2017.4.17 in /usr/local/lib/python3.6/dist-packages (from requests>=2.0->gym[atari]) (2018.11.29)\n",
            "Requirement already satisfied: urllib3<1.23,>=1.21.1 in /usr/local/lib/python3.6/dist-packages (from requests>=2.0->gym[atari]) (1.22)\n",
            "Requirement already satisfied: idna<2.7,>=2.5 in /usr/local/lib/python3.6/dist-packages (from requests>=2.0->gym[atari]) (2.6)\n",
            "Requirement already satisfied: chardet<3.1.0,>=3.0.2 in /usr/local/lib/python3.6/dist-packages (from requests>=2.0->gym[atari]) (3.0.4)\n",
            "Requirement already satisfied: future in /usr/local/lib/python3.6/dist-packages (from pyglet>=1.2.0->gym[atari]) (0.16.0)\n",
            "Building wheels for collected packages: PyOpenGL\n",
            "  Running setup.py bdist_wheel for PyOpenGL ... \u001b[?25l-\b \b\\\b \b|\b \b/\b \b-\b \b\\\b \b|\b \b/\b \b-\b \b\\\b \b|\b \b/\b \b-\b \b\\\b \b|\b \b/\b \b-\b \b\\\b \b|\b \b/\b \b-\b \b\\\b \bdone\n",
            "\u001b[?25h  Stored in directory: /root/.cache/pip/wheels/6c/00/7f/1dd736f380848720ad79a1a1de5272e0d3f79c15a42968fb58\n",
            "Successfully built PyOpenGL\n",
            "Installing collected packages: atari-py, PyOpenGL\n",
            "Successfully installed PyOpenGL-3.1.0 atari-py-0.1.7\n"
          ],
          "name": "stdout"
        }
      ]
    },
    {
      "metadata": {
        "id": "NB7m5hVVmSZ8",
        "colab_type": "code",
        "colab": {}
      },
      "cell_type": "code",
      "source": [
        "# Standard pytorch and math imports\n",
        "import torch\n",
        "from torch import nn \n",
        "from torch import optim\n",
        "from torch.utils.data import Dataset, DataLoader\n",
        "\n",
        "import seaborn\n",
        "import numpy as np\n",
        "from matplotlib import pyplot as plt\n",
        "from tqdm import tqdm\n",
        "\n",
        "# Specific or new to this lab\n",
        "import gym\n",
        "from itertools import chain # convenient way to tell Adam what to backprop on"
      ],
      "execution_count": 0,
      "outputs": []
    },
    {
      "metadata": {
        "id": "xe5h_3vFjzoF",
        "colab_type": "text"
      },
      "cell_type": "markdown",
      "source": [
        "# Code Pieces"
      ]
    },
    {
      "metadata": {
        "id": "42g6HP1xnR4v",
        "colab_type": "text"
      },
      "cell_type": "markdown",
      "source": [
        "## Policy and value networks"
      ]
    },
    {
      "metadata": {
        "id": "NRK7aJSrnRcH",
        "colab_type": "code",
        "colab": {}
      },
      "cell_type": "code",
      "source": [
        "class ValueNetwork(nn.Module):\n",
        "    \n",
        "    def __init__(self, input_size, output_size, hidden_dim=100):\n",
        "        super(ValueNetwork, self).__init__()\n",
        "        self.net = nn.Sequential(\n",
        "            nn.Linear(input_size, hidden_dim),\n",
        "            nn.ReLU(),\n",
        "            nn.Linear(hidden_dim, hidden_dim),\n",
        "            nn.ReLU(),\n",
        "            nn.Linear(hidden_dim, hidden_dim),\n",
        "            nn.ReLU(),\n",
        "            nn.Linear(hidden_dim, output_size)\n",
        "        )\n",
        "\n",
        "    def forward(self, x):\n",
        "        return self.net(x)\n",
        "    \n",
        "class PolicyNetwork(nn.Module):\n",
        "    \n",
        "    def __init__(self, input_size, output_size, hidden_dim=100):\n",
        "        super(PolicyNetwork, self).__init__()\n",
        "        self.net = nn.Sequential(\n",
        "            nn.Linear(input_size, hidden_dim),\n",
        "            nn.ReLU(),\n",
        "            nn.Linear(hidden_dim, hidden_dim),\n",
        "            nn.ReLU(),\n",
        "            nn.Linear(hidden_dim, hidden_dim),\n",
        "            nn.ReLU(),\n",
        "            nn.Linear(hidden_dim, output_size)\n",
        "        )\n",
        "        self.softmax = nn.Softmax(dim=1)\n",
        "\n",
        "    def forward(self, x, get_action=False):\n",
        "        \"\"\"\n",
        "        Arguments\n",
        "        ---------\n",
        "        x of shape [batch, state_dim]\n",
        "        \n",
        "        Output a probability distribution over actions and a sampled action.\n",
        "        \"\"\"\n",
        "        \n",
        "        scores = self.net(x)\n",
        "        probs = self.softmax(scores)\n",
        "        \n",
        "        if get_action == False:\n",
        "            return probs\n",
        "        \n",
        "        n_batch = x.shape[0]\n",
        "        p = probs.cpu().detach().numpy()\n",
        "        samples = [np.random.choice(p.shape[1], p=p[i]) for i in range(n_batch)]\n",
        "        \n",
        "        return probs, np.array(samples, dtype=np.uint8).reshape((n_batch, 1))"
      ],
      "execution_count": 0,
      "outputs": []
    },
    {
      "metadata": {
        "id": "cJbKIWOtnOea",
        "colab_type": "text"
      },
      "cell_type": "markdown",
      "source": [
        "## Environment wrapper class"
      ]
    },
    {
      "metadata": {
        "id": "Fzd2XU8ajzI9",
        "colab_type": "code",
        "colab": {}
      },
      "cell_type": "code",
      "source": [
        "class OpenAIGymEnvironment(object):\n",
        "    def __init__(self, name):\n",
        "        super(OpenAIGymEnvironment, self).__init__()\n",
        "        self.environment = gym.make(name)\n",
        "        \n",
        "        self.num_actions = self.environment.action_space.n\n",
        "        self.environment.reset()\n",
        "        s, r, t, _ = self.environment.step(np.random.randint(self.num_actions))\n",
        "        self.state_dims = len(s)\n",
        "\n",
        "    def step(self, action):\n",
        "        \"\"\"\n",
        "        Takes an action x which is the same format as the output from a policy \n",
        "        network; action is a numpy array of shape [1] and type np.uint8. \n",
        "        \"\"\"\n",
        "        s, r, t, _ = self.environment.step(action.item())\n",
        "        return s, r, t\n",
        "\n",
        "    def reset(self):\n",
        "        \"\"\"Returns observation (numpy array)\"\"\"\n",
        "        return self.environment.reset()"
      ],
      "execution_count": 0,
      "outputs": []
    },
    {
      "metadata": {
        "id": "-HJx1M4yg2WP",
        "colab_type": "text"
      },
      "cell_type": "markdown",
      "source": [
        "## Experience dataset collector"
      ]
    },
    {
      "metadata": {
        "id": "bITHIsYJg2C8",
        "colab_type": "code",
        "colab": {}
      },
      "cell_type": "code",
      "source": [
        "class ExperienceDataset(Dataset):\n",
        "    \n",
        "    def __init__(self, environment, embedding_net, policy_net, num_trials, \n",
        "                 max_trial_length, gamma):\n",
        "        \n",
        "        super(ExperienceDataset, self).__init__()\n",
        "        \n",
        "        self.policy_net = policy_net\n",
        "        self.embedding_net = embedding_net\n",
        "        self.max_trial_length = max_trial_length\n",
        "        self.gamma = gamma\n",
        "        \n",
        "        self.experiences = []\n",
        "        self.rewards = []\n",
        "        \n",
        "        self.avg_len = 0\n",
        "        for trial in range(num_trials):\n",
        "            trial_len = self.run_trial(environment)\n",
        "            self.avg_len += 0.01*trial_len    \n",
        "            \n",
        "        self.mean_reward = np.mean(self.rewards)\n",
        "        \n",
        "    def run_trial(self, environment):\n",
        "        \n",
        "        current_trial = []\n",
        "        current_env = environment.reset()\n",
        "        trial_reward = 0\n",
        "        hit_max_length = 0\n",
        "        \n",
        "        for turn in range(self.max_trial_length):\n",
        "            \n",
        "            # Collect (and embed) the input state in correct format\n",
        "            input_state = torch.from_numpy(current_env).float().unsqueeze(0)\n",
        "            if self.embedding_net:\n",
        "                input_state = self.embedding_net(input_state)\n",
        "            \n",
        "            # Choose an action using the policy and step the environment forward\n",
        "            a_dist, action = self.policy_net(input_state, True)\n",
        "            next_environment, reward, finished = environment.step(action[0])\n",
        "   \n",
        "            # Store and keep track of things\n",
        "            current_trial.append((current_env, a_dist[0].cpu().detach().numpy(), \n",
        "                                  action[0], reward))\n",
        "            trial_reward += reward\n",
        "            current_env = next_environment\n",
        "            \n",
        "            # Check if the trial finished early\n",
        "            if finished:\n",
        "                break\n",
        "         \n",
        "        # Calculate returns\n",
        "        current_return = 0\n",
        "        for i in reversed(range(len(current_trial))):\n",
        "            s, a_dist, a, reward = current_trial[i]\n",
        "            current_return = reward + self.gamma * current_return\n",
        "            current_trial[i] = (s, a_dist, a, reward, current_return)\n",
        "            \n",
        "        self.experiences.extend(current_trial)\n",
        "        self.rewards.append(trial_reward) # just for reporting in loop\n",
        "        \n",
        "        return len(current_trial)\n",
        "        \n",
        "    def __getitem__(self, index):\n",
        "        return self.experiences[index]\n",
        "\n",
        "    def __len__(self):\n",
        "        return len(self.experiences)"
      ],
      "execution_count": 0,
      "outputs": []
    },
    {
      "metadata": {
        "id": "lbCrfSnGodDe",
        "colab_type": "text"
      },
      "cell_type": "markdown",
      "source": [
        "## PPO experiment wrapper\n"
      ]
    },
    {
      "metadata": {
        "id": "fWo0_mtfoufs",
        "colab_type": "code",
        "colab": {}
      },
      "cell_type": "code",
      "source": [
        "def likelihood(action_distribution, actions):\n",
        "    \"\"\"\n",
        "    What probability of choosing the actions chosen did we have?\n",
        "    Batch dimension is 0 so we gather on dimension 1\n",
        "    \"\"\"\n",
        "    return torch.gather(action_distribution, 1, actions.long())\n",
        "    \n",
        "def ppo(environment, policy_net, value_net, likelihood_fn, avg_rewards,\n",
        "        solved_reward, embedding_net=None, epochs=1000, policy_epochs=5,\n",
        "        batch_size=256, trials_per_epoch=100, max_trial_length=200):\n",
        "    \n",
        "    gamma = 0.99\n",
        "    eps = 0.1\n",
        "    lr = 1e-3\n",
        "    betas = (0.9, 0.999)\n",
        "    weight_decay = 0.01\n",
        "    \n",
        "    # Collect parameters and tell Adam what to optimize with respect to\n",
        "    params = chain(policy_net.parameters(), value_net.parameters())\n",
        "    if embedding_net:\n",
        "        params = chain(params, embedding_net.parameters())\n",
        "    optimizer = optim.Adam(params, lr=lr, betas=betas, weight_decay=weight_decay)\n",
        "    \n",
        "    value_criteria = nn.MSELoss()\n",
        "    loop = tqdm(total=epochs, position=0, leave=False)\n",
        "\n",
        "    for epoch in range(epochs):\n",
        "        \n",
        "        # Get some experiences and put them in a DataLoader\n",
        "        experiences = ExperienceDataset(environment, embedding_net, policy_net, \n",
        "                                      trials_per_epoch, max_trial_length, gamma)\n",
        "        data_loader = DataLoader(experiences, batch_size=batch_size, \n",
        "                                 shuffle=True, pin_memory=True)\n",
        "        avg_rewards.append(experiences.mean_reward)\n",
        "        \n",
        "        # If avg reward over last 5 epochs > solved, we win and can stop\n",
        "        recent_avg = np.mean(avg_rewards[max(-5,-len(avg_rewards)):])\n",
        "        if recent_avg > solved_reward:\n",
        "            break\n",
        "        \n",
        "        # Train policy and value estimation functions based on recent experience\n",
        "        for policy_epoch in range(policy_epochs):\n",
        "                \n",
        "            avg_policy_loss = 0\n",
        "            avg_val_loss = 0\n",
        "            \n",
        "            for state, action_dist, action, reward, return_ in data_loader:\n",
        "                \n",
        "                # Tbh we should probably just detach these when we store them\n",
        "                state = state.detach().float()\n",
        "                action_dist.detach().float()\n",
        "                action = action.detach().float()\n",
        "                return_ = return_.detach().float().unsqueeze(1)\n",
        "                \n",
        "                if embedding_net:\n",
        "                    state = embedding_net(state)\n",
        "                \n",
        "                optimizer.zero_grad()\n",
        "                \n",
        "                # Compare likelihood of a new action under old and new dist\n",
        "                new_action_dist = policy_net(state, False)\n",
        "                current_likelihood = likelihood_fn(new_action_dist, action)\n",
        "                old_likelihood = likelihood_fn(action_dist, action)\n",
        "                r_t = current_likelihood / old_likelihood\n",
        "\n",
        "                # Compare expected value of state to actual return for val_loss\n",
        "                expected_returns = value_net(state)\n",
        "                val_loss = value_criteria(expected_returns, return_) # just MSE\n",
        "                \n",
        "                # Advantage of observed return compared to estimated return \n",
        "                A_t = return_ - expected_returns.detach()\n",
        "                \n",
        "                # Policy loss as in paper\n",
        "                policy_loss = -torch.mean(torch.min(r_t*A_t,\n",
        "                                          torch.clamp(r_t, 1-eps, 1+eps) * A_t))\n",
        "                \n",
        "                # Backpropagate\n",
        "                loss = policy_loss + val_loss\n",
        "                loss.backward()\n",
        "                optimizer.step()\n",
        "                \n",
        "                # Just for keeping track\n",
        "                avg_val_loss += val_loss.item()\n",
        "                avg_policy_loss += policy_loss.item()\n",
        "            \n",
        "            # Display average results over policy epoch in tqdm loop\n",
        "            avg_val_loss /= len(data_loader)\n",
        "            avg_policy_loss /= len(data_loader)\n",
        "            loop.set_description(\n",
        "            'Reward: %.2f, losses: value %.2f, policy %.2f, avg_len %.0f, recent avg %.2f' % \n",
        "            (experiences.mean_reward, avg_val_loss, avg_policy_loss, \n",
        "             experiences.avg_len, recent_avg)\n",
        "            )\n",
        "            \n",
        "        # Crude way to keep track of progress as we iterate\n",
        "        if epoch % 10 == 1:\n",
        "            print() \n",
        "            \n",
        "        loop.update(1)"
      ],
      "execution_count": 0,
      "outputs": []
    },
    {
      "metadata": {
        "id": "YefGRFx2Ftfh",
        "colab_type": "text"
      },
      "cell_type": "markdown",
      "source": [
        "## Function to run PPO for any discrete OpenAIGym environment"
      ]
    },
    {
      "metadata": {
        "id": "Gzs3fylHFI8N",
        "colab_type": "code",
        "colab": {}
      },
      "cell_type": "code",
      "source": [
        "def run_discrete(environment_name, solved_reward, max_trial_length, avg_rewards,\n",
        "                num_rollouts=100, hidden_dims=25):\n",
        "    \n",
        "    environment = OpenAIGymEnvironment(environment_name)\n",
        "    embedding = nn.Sequential(nn.Linear(environment.state_dims, 100), nn.ReLU(), \n",
        "                              nn.Linear(100, 100), nn.ReLU())\n",
        "    policy = PolicyNetwork(100, environment.num_actions, hidden_dim=hidden_dims)\n",
        "    value = ValueNetwork(100, 1, hidden_dim=hidden_dims)\n",
        "\n",
        "    ppo(environment, policy, value, likelihood, avg_rewards, solved_reward, \n",
        "        embedding_net=embedding, max_trial_length=max_trial_length,\n",
        "        trials_per_epoch=num_rollouts)\n",
        "\n",
        "    plt.plot(avg_rewards)\n",
        "    plt.title(\"Average Reward Over 100 Rollouts (\"+environment_name+\")\")\n",
        "    plt.xlabel(\"Epoch\")\n",
        "    plt.show()"
      ],
      "execution_count": 0,
      "outputs": []
    },
    {
      "metadata": {
        "id": "WXTBMIT7nZb_",
        "colab_type": "text"
      },
      "cell_type": "markdown",
      "source": [
        "# Run experiments"
      ]
    },
    {
      "metadata": {
        "id": "tSHjaqf_JpWM",
        "colab_type": "text"
      },
      "cell_type": "markdown",
      "source": [
        "## CartPole-v0"
      ]
    },
    {
      "metadata": {
        "id": "cR6B1TINj91-",
        "colab_type": "code",
        "outputId": "f98d6e60-8dbd-4f69-ffb3-360be0648b81",
        "colab": {
          "base_uri": "https://localhost:8080/",
          "height": 514
        }
      },
      "cell_type": "code",
      "source": [
        "run_discrete('CartPole-v0', 195, 200)"
      ],
      "execution_count": 0,
      "outputs": [
        {
          "output_type": "stream",
          "text": [
            "/usr/local/lib/python3.6/dist-packages/gym/envs/registration.py:14: PkgResourcesDeprecationWarning: Parameters to load are deprecated.  Call .resolve and .require separately.\n",
            "  result = entry_point.load(False)\n",
            "Reward:  23.16, losses: value  131.54, policy  0.16, Hit max  0 times:   0%|          | 2/1000 [00:02<19:20,  1.16s/it]"
          ],
          "name": "stderr"
        },
        {
          "output_type": "stream",
          "text": [
            "\n"
          ],
          "name": "stdout"
        },
        {
          "output_type": "stream",
          "text": [
            "Reward:  191.02, losses: value  203.79, policy -0.01, Hit max  76 times:   1%|          | 12/1000 [01:07<2:41:38,  9.82s/it]"
          ],
          "name": "stderr"
        },
        {
          "output_type": "stream",
          "text": [
            "\n"
          ],
          "name": "stdout"
        },
        {
          "output_type": "stream",
          "text": [
            "Reward:  194.01, losses: value  198.09, policy  0.01, Hit max  75 times:   2%|▏         | 22/1000 [03:20<3:33:20, 13.09s/it]"
          ],
          "name": "stderr"
        },
        {
          "output_type": "stream",
          "text": [
            "\n"
          ],
          "name": "stdout"
        },
        {
          "output_type": "stream",
          "text": [
            "Reward:  198.30, losses: value  209.17, policy -0.08, Hit max  87 times:   3%|▎         | 32/1000 [05:26<3:32:12, 13.15s/it]"
          ],
          "name": "stderr"
        },
        {
          "output_type": "stream",
          "text": [
            "\n"
          ],
          "name": "stdout"
        },
        {
          "output_type": "stream",
          "text": [
            "Reward:  197.30, losses: value  207.93, policy -0.00, Hit max  90 times:   4%|▎         | 35/1000 [06:10<3:49:02, 14.24s/it]"
          ],
          "name": "stderr"
        },
        {
          "output_type": "display_data",
          "data": {
            "image/png": "[encoded data removed]",
            "text/plain": [
              "<matplotlib.figure.Figure at 0x7f32cecc3630>"
            ]
          },
          "metadata": {
            "tags": []
          }
        }
      ]
    },
    {
      "metadata": {
        "id": "67QtF17oKiRG",
        "colab_type": "code",
        "outputId": "d5ce0ee1-3b4d-4ce5-9433-b615c6092011",
        "colab": {
          "base_uri": "https://localhost:8080/",
          "height": 514
        }
      },
      "cell_type": "code",
      "source": [
        "run_discrete('CartPole-v0', 199, 200)"
      ],
      "execution_count": 0,
      "outputs": [
        {
          "output_type": "stream",
          "text": [
            "/usr/local/lib/python3.6/dist-packages/gym/envs/registration.py:14: PkgResourcesDeprecationWarning: Parameters to load are deprecated.  Call .resolve and .require separately.\n",
            "  result = entry_point.load(False)\n",
            "Reward: 24.02, losses: value 244.08, policy -12.78, Hit max 0 times, recent avg 21.95:   0%|          | 2/1000 [00:02<19:52,  1.19s/it]"
          ],
          "name": "stderr"
        },
        {
          "output_type": "stream",
          "text": [
            "\n"
          ],
          "name": "stdout"
        },
        {
          "output_type": "stream",
          "text": [
            "Reward: 197.20, losses: value 332.86, policy 0.15, Hit max 92 times, recent avg 151.03:   1%|          | 12/1000 [00:55<2:22:36,  8.66s/it]"
          ],
          "name": "stderr"
        },
        {
          "output_type": "stream",
          "text": [
            "\n"
          ],
          "name": "stdout"
        },
        {
          "output_type": "stream",
          "text": [
            "Reward: 189.99, losses: value 95.79, policy -0.03, Hit max 61 times, recent avg 193.68:   2%|▏         | 22/1000 [03:10<3:30:39, 12.92s/it]"
          ],
          "name": "stderr"
        },
        {
          "output_type": "stream",
          "text": [
            "\n"
          ],
          "name": "stdout"
        },
        {
          "output_type": "stream",
          "text": [
            "Reward: 198.95, losses: value 211.11, policy -0.05, Hit max 90 times, recent avg 198.81:   3%|▎         | 32/1000 [05:19<3:29:39, 12.99s/it]"
          ],
          "name": "stderr"
        },
        {
          "output_type": "stream",
          "text": [
            "\n"
          ],
          "name": "stdout"
        },
        {
          "output_type": "stream",
          "text": [
            "Reward: 199.78, losses: value 283.82, policy 0.05, Hit max 99 times, recent avg 198.54:   4%|▎         | 37/1000 [06:22<3:21:53, 12.58s/it]"
          ],
          "name": "stderr"
        },
        {
          "output_type": "display_data",
          "data": {
            "image/png": "[encoded data removed]",
            "text/plain": [
              "<matplotlib.figure.Figure at 0x7f32cb0f5e48>"
            ]
          },
          "metadata": {
            "tags": []
          }
        }
      ]
    },
    {
      "metadata": {
        "id": "fzkncOm82Ii2",
        "colab_type": "text"
      },
      "cell_type": "markdown",
      "source": [
        "## LunarLander-v2"
      ]
    },
    {
      "metadata": {
        "id": "oEVqK8okejQr",
        "colab_type": "text"
      },
      "cell_type": "markdown",
      "source": [
        "### Earlier run (about 9:30pm-10:30pm)\n",
        "\n",
        "I should have made sure I could get the \n",
        "plot displayed whether it finished on its own or not. It didn't look like it \n",
        "was going to converge by midnight, so I interrupted it to do another run."
      ]
    },
    {
      "metadata": {
        "id": "U5J8CUo-_Usu",
        "colab_type": "code",
        "outputId": "ced27139-1d7e-4e45-aee5-2b0d05c523e3",
        "colab": {
          "base_uri": "https://localhost:8080/",
          "height": 921
        }
      },
      "cell_type": "code",
      "source": [
        "run_discrete('LunarLander-v2', 200, 300)"
      ],
      "execution_count": 0,
      "outputs": [
        {
          "output_type": "stream",
          "text": [
            "/usr/local/lib/python3.6/dist-packages/gym/envs/registration.py:14: PkgResourcesDeprecationWarning: Parameters to load are deprecated.  Call .resolve and .require separately.\n",
            "  result = entry_point.load(False)\n",
            "Reward: -164.57, losses: value  2193.33, policy  0.28, Hit max  0 times:   0%|          | 2/1000 [00:13<1:53:44,  6.84s/it]"
          ],
          "name": "stderr"
        },
        {
          "output_type": "stream",
          "text": [
            "\n"
          ],
          "name": "stdout"
        },
        {
          "output_type": "stream",
          "text": [
            "Reward: -119.85, losses: value  629.11, policy  0.29, Hit max  0 times:   1%|          | 12/1000 [01:23<2:00:46,  7.33s/it]"
          ],
          "name": "stderr"
        },
        {
          "output_type": "stream",
          "text": [
            "\n"
          ],
          "name": "stdout"
        },
        {
          "output_type": "stream",
          "text": [
            "Reward: -34.36, losses: value  732.47, policy -0.19, Hit max  40 times:   2%|▏         | 22/1000 [04:21<6:12:27, 22.85s/it]"
          ],
          "name": "stderr"
        },
        {
          "output_type": "stream",
          "text": [
            "\n"
          ],
          "name": "stdout"
        },
        {
          "output_type": "stream",
          "text": [
            "Reward:  68.62, losses: value  195.84, policy -0.04, Hit max  92 times:   3%|▎         | 32/1000 [10:05<9:35:57, 35.70s/it]"
          ],
          "name": "stderr"
        },
        {
          "output_type": "stream",
          "text": [
            "\n"
          ],
          "name": "stdout"
        },
        {
          "output_type": "stream",
          "text": [
            "Reward:  114.28, losses: value  271.74, policy -0.03, Hit max  83 times:   4%|▍         | 42/1000 [16:05<9:23:39, 35.30s/it]"
          ],
          "name": "stderr"
        },
        {
          "output_type": "stream",
          "text": [
            "\n"
          ],
          "name": "stdout"
        },
        {
          "output_type": "stream",
          "text": [
            "Reward:  111.42, losses: value  219.64, policy  0.02, Hit max  94 times:   5%|▌         | 52/1000 [21:59<9:18:33, 35.35s/it]"
          ],
          "name": "stderr"
        },
        {
          "output_type": "stream",
          "text": [
            "\n"
          ],
          "name": "stdout"
        },
        {
          "output_type": "stream",
          "text": [
            "Reward:  138.05, losses: value  149.88, policy  0.03, Hit max  97 times:   6%|▌         | 62/1000 [28:04<9:35:25, 36.81s/it]"
          ],
          "name": "stderr"
        },
        {
          "output_type": "stream",
          "text": [
            "\n"
          ],
          "name": "stdout"
        },
        {
          "output_type": "stream",
          "text": [
            "Reward:  157.09, losses: value  86.45, policy  0.04, Hit max  96 times:   7%|▋         | 72/1000 [34:12<9:20:51, 36.26s/it]"
          ],
          "name": "stderr"
        },
        {
          "output_type": "stream",
          "text": [
            "\n"
          ],
          "name": "stdout"
        },
        {
          "output_type": "stream",
          "text": [
            "Reward:  145.23, losses: value  124.42, policy  0.02, Hit max  93 times:   8%|▊         | 82/1000 [40:05<9:01:00, 35.36s/it]"
          ],
          "name": "stderr"
        },
        {
          "output_type": "stream",
          "text": [
            "\n"
          ],
          "name": "stdout"
        },
        {
          "output_type": "stream",
          "text": [
            "Reward:  160.56, losses: value  100.80, policy -0.00, Hit max  95 times:   9%|▉         | 92/1000 [46:01<8:57:17, 35.50s/it]"
          ],
          "name": "stderr"
        },
        {
          "output_type": "stream",
          "text": [
            "\n"
          ],
          "name": "stdout"
        },
        {
          "output_type": "stream",
          "text": [
            "Reward:  171.30, losses: value  51.46, policy  0.02, Hit max  98 times:  10%|█         | 102/1000 [51:51<8:54:15, 35.70s/it]"
          ],
          "name": "stderr"
        },
        {
          "output_type": "stream",
          "text": [
            "\n"
          ],
          "name": "stdout"
        },
        {
          "output_type": "stream",
          "text": [
            "Reward:  138.53, losses: value  369.84, policy  0.12, Hit max  80 times:  11%|█         | 112/1000 [57:40<8:19:15, 33.73s/it]"
          ],
          "name": "stderr"
        },
        {
          "output_type": "stream",
          "text": [
            "\n"
          ],
          "name": "stdout"
        },
        {
          "output_type": "stream",
          "text": [
            "Reward:  172.65, losses: value  26.47, policy -0.01, Hit max  99 times:  12%|█▏        | 122/1000 [1:03:31<8:33:10, 35.07s/it]"
          ],
          "name": "stderr"
        },
        {
          "output_type": "stream",
          "text": [
            "\n"
          ],
          "name": "stdout"
        },
        {
          "output_type": "stream",
          "text": [
            "Reward:  173.51, losses: value  74.97, policy -0.05, Hit max  96 times:  12%|█▎        | 125/1000 [1:05:42<8:17:59, 34.15s/it]"
          ],
          "name": "stderr"
        },
        {
          "output_type": "error",
          "ename": "KeyboardInterrupt",
          "evalue": "ignored",
          "traceback": [
            "\u001b[0;31m---------------------------------------------------------------------------\u001b[0m",
            "\u001b[0;31mKeyboardInterrupt\u001b[0m                         Traceback (most recent call last)",
            "\u001b[0;32m<ipython-input-81-1279fe42bf4f>\u001b[0m in \u001b[0;36m<module>\u001b[0;34m()\u001b[0m\n\u001b[0;32m----> 1\u001b[0;31m \u001b[0mrun_discrete\u001b[0m\u001b[0;34m(\u001b[0m\u001b[0;34m'LunarLander-v2'\u001b[0m\u001b[0;34m,\u001b[0m \u001b[0;36m200\u001b[0m\u001b[0;34m,\u001b[0m \u001b[0;36m300\u001b[0m\u001b[0;34m)\u001b[0m\u001b[0;34m\u001b[0m\u001b[0;34m\u001b[0m\u001b[0m\n\u001b[0m",
            "\u001b[0;32m<ipython-input-71-b131e437a3b1>\u001b[0m in \u001b[0;36mrun_discrete\u001b[0;34m(environment_name, solved_reward, max_trial_length)\u001b[0m\n\u001b[1;32m     10\u001b[0m \u001b[0;34m\u001b[0m\u001b[0m\n\u001b[1;32m     11\u001b[0m     ppo(environment, policy, value, likelihood, avg_rewards, solved_reward, \n\u001b[0;32m---> 12\u001b[0;31m         embedding_net=embedding, max_trial_length=max_trial_length)\n\u001b[0m\u001b[1;32m     13\u001b[0m \u001b[0;34m\u001b[0m\u001b[0m\n\u001b[1;32m     14\u001b[0m     \u001b[0mplt\u001b[0m\u001b[0;34m.\u001b[0m\u001b[0mplot\u001b[0m\u001b[0;34m(\u001b[0m\u001b[0mavg_rewards\u001b[0m\u001b[0;34m)\u001b[0m\u001b[0;34m\u001b[0m\u001b[0;34m\u001b[0m\u001b[0m\n",
            "\u001b[0;32m<ipython-input-78-740dae34129e>\u001b[0m in \u001b[0;36mppo\u001b[0;34m(environment, policy_net, value_net, likelihood_fn, avg_rewards, solved_reward, embedding_net, epochs, policy_epochs, batch_size, trials_per_epoch, max_trial_length)\u001b[0m\n\u001b[1;32m     76\u001b[0m                 \u001b[0;31m# Backpropagate\u001b[0m\u001b[0;34m\u001b[0m\u001b[0;34m\u001b[0m\u001b[0;34m\u001b[0m\u001b[0m\n\u001b[1;32m     77\u001b[0m                 \u001b[0mloss\u001b[0m \u001b[0;34m=\u001b[0m \u001b[0mpolicy_loss\u001b[0m \u001b[0;34m+\u001b[0m \u001b[0mval_loss\u001b[0m\u001b[0;34m\u001b[0m\u001b[0;34m\u001b[0m\u001b[0m\n\u001b[0;32m---> 78\u001b[0;31m                 \u001b[0mloss\u001b[0m\u001b[0;34m.\u001b[0m\u001b[0mbackward\u001b[0m\u001b[0;34m(\u001b[0m\u001b[0;34m)\u001b[0m\u001b[0;34m\u001b[0m\u001b[0;34m\u001b[0m\u001b[0m\n\u001b[0m\u001b[1;32m     79\u001b[0m                 \u001b[0moptimizer\u001b[0m\u001b[0;34m.\u001b[0m\u001b[0mstep\u001b[0m\u001b[0;34m(\u001b[0m\u001b[0;34m)\u001b[0m\u001b[0;34m\u001b[0m\u001b[0;34m\u001b[0m\u001b[0m\n\u001b[1;32m     80\u001b[0m \u001b[0;34m\u001b[0m\u001b[0m\n",
            "\u001b[0;32m/usr/local/lib/python3.6/dist-packages/torch/tensor.py\u001b[0m in \u001b[0;36mbackward\u001b[0;34m(self, gradient, retain_graph, create_graph)\u001b[0m\n\u001b[1;32m    100\u001b[0m                 \u001b[0mproducts\u001b[0m\u001b[0;34m.\u001b[0m \u001b[0mDefaults\u001b[0m \u001b[0mto\u001b[0m\u001b[0;31m \u001b[0m\u001b[0;31m`\u001b[0m\u001b[0;31m`\u001b[0m\u001b[0;32mFalse\u001b[0m\u001b[0;31m`\u001b[0m\u001b[0;31m`\u001b[0m\u001b[0;34m.\u001b[0m\u001b[0;34m\u001b[0m\u001b[0;34m\u001b[0m\u001b[0m\n\u001b[1;32m    101\u001b[0m         \"\"\"\n\u001b[0;32m--> 102\u001b[0;31m         \u001b[0mtorch\u001b[0m\u001b[0;34m.\u001b[0m\u001b[0mautograd\u001b[0m\u001b[0;34m.\u001b[0m\u001b[0mbackward\u001b[0m\u001b[0;34m(\u001b[0m\u001b[0mself\u001b[0m\u001b[0;34m,\u001b[0m \u001b[0mgradient\u001b[0m\u001b[0;34m,\u001b[0m \u001b[0mretain_graph\u001b[0m\u001b[0;34m,\u001b[0m \u001b[0mcreate_graph\u001b[0m\u001b[0;34m)\u001b[0m\u001b[0;34m\u001b[0m\u001b[0;34m\u001b[0m\u001b[0m\n\u001b[0m\u001b[1;32m    103\u001b[0m \u001b[0;34m\u001b[0m\u001b[0m\n\u001b[1;32m    104\u001b[0m     \u001b[0;32mdef\u001b[0m \u001b[0mregister_hook\u001b[0m\u001b[0;34m(\u001b[0m\u001b[0mself\u001b[0m\u001b[0;34m,\u001b[0m \u001b[0mhook\u001b[0m\u001b[0;34m)\u001b[0m\u001b[0;34m:\u001b[0m\u001b[0;34m\u001b[0m\u001b[0;34m\u001b[0m\u001b[0m\n",
            "\u001b[0;32m/usr/local/lib/python3.6/dist-packages/torch/autograd/__init__.py\u001b[0m in \u001b[0;36mbackward\u001b[0;34m(tensors, grad_tensors, retain_graph, create_graph, grad_variables)\u001b[0m\n\u001b[1;32m     88\u001b[0m     Variable._execution_engine.run_backward(\n\u001b[1;32m     89\u001b[0m         \u001b[0mtensors\u001b[0m\u001b[0;34m,\u001b[0m \u001b[0mgrad_tensors\u001b[0m\u001b[0;34m,\u001b[0m \u001b[0mretain_graph\u001b[0m\u001b[0;34m,\u001b[0m \u001b[0mcreate_graph\u001b[0m\u001b[0;34m,\u001b[0m\u001b[0;34m\u001b[0m\u001b[0;34m\u001b[0m\u001b[0m\n\u001b[0;32m---> 90\u001b[0;31m         allow_unreachable=True)  # allow_unreachable flag\n\u001b[0m\u001b[1;32m     91\u001b[0m \u001b[0;34m\u001b[0m\u001b[0m\n\u001b[1;32m     92\u001b[0m \u001b[0;34m\u001b[0m\u001b[0m\n",
            "\u001b[0;31mKeyboardInterrupt\u001b[0m: "
          ]
        }
      ]
    },
    {
      "metadata": {
        "id": "x8msphNyeq4r",
        "colab_type": "text"
      },
      "cell_type": "markdown",
      "source": [
        "### Try again (lower max_trial_time also) WE WIN\n",
        "\n",
        "Lowering the maximum trial length to 250 was a really good idea. The epochs are about eight seconds faster, and it seems to also be learning a bit faster with respect to the number of epochs. \n",
        "\n",
        "I can't say for sure if it's learning faster with respect to the number of epochs, though, since the average at each epoch is somewhat variable, and I didn't have that displaying in my tqdm loop on the previous run."
      ]
    },
    {
      "metadata": {
        "id": "zqqwqEa0a9V0",
        "colab_type": "code",
        "outputId": "5e74516c-fa66-43cc-bbce-b1a59420c95a",
        "colab": {
          "base_uri": "https://localhost:8080/",
          "height": 678
        }
      },
      "cell_type": "code",
      "source": [
        "avg_rewards = []\n",
        "run_discrete('LunarLander-v2', 200, 250, avg_rewards)"
      ],
      "execution_count": 0,
      "outputs": [
        {
          "output_type": "stream",
          "text": [
            "/usr/local/lib/python3.6/dist-packages/gym/envs/registration.py:14: PkgResourcesDeprecationWarning: Parameters to load are deprecated.  Call .resolve and .require separately.\n",
            "  result = entry_point.load(False)\n",
            "Reward: -189.67, losses: value 2227.83, policy -0.41, Hit max 0 times, recent avg -180.39:   0%|          | 2/1000 [00:13<1:55:31,  6.95s/it]"
          ],
          "name": "stderr"
        },
        {
          "output_type": "stream",
          "text": [
            "\n"
          ],
          "name": "stdout"
        },
        {
          "output_type": "stream",
          "text": [
            "Reward: -112.25, losses: value 542.67, policy 0.15, Hit max 0 times, recent avg -136.56:   1%|          | 12/1000 [01:27<2:10:55,  7.95s/it]"
          ],
          "name": "stderr"
        },
        {
          "output_type": "stream",
          "text": [
            "\n"
          ],
          "name": "stdout"
        },
        {
          "output_type": "stream",
          "text": [
            "Reward: -4.24, losses: value 642.18, policy -8.27, Hit max 48 times, recent avg -39.64:   2%|▏         | 22/1000 [04:35<5:35:53, 20.61s/it]"
          ],
          "name": "stderr"
        },
        {
          "output_type": "stream",
          "text": [
            "\n"
          ],
          "name": "stdout"
        },
        {
          "output_type": "stream",
          "text": [
            "Reward: 106.25, losses: value 72.80, policy 0.02, Hit max 98 times, recent avg 101.34:   3%|▎         | 32/1000 [08:58<7:10:07, 26.66s/it]"
          ],
          "name": "stderr"
        },
        {
          "output_type": "stream",
          "text": [
            "\n"
          ],
          "name": "stdout"
        },
        {
          "output_type": "stream",
          "text": [
            "Reward: 117.92, losses: value 137.42, policy 0.00, Hit max 96 times, recent avg 119.56:   4%|▍         | 42/1000 [13:31<7:16:51, 27.36s/it]"
          ],
          "name": "stderr"
        },
        {
          "output_type": "stream",
          "text": [
            "\n"
          ],
          "name": "stdout"
        },
        {
          "output_type": "stream",
          "text": [
            "Reward: 151.51, losses: value 53.16, policy -0.02, Hit max 99 times, recent avg 139.53:   5%|▌         | 52/1000 [18:02<7:07:48, 27.08s/it]"
          ],
          "name": "stderr"
        },
        {
          "output_type": "stream",
          "text": [
            "\n"
          ],
          "name": "stdout"
        },
        {
          "output_type": "stream",
          "text": [
            "Reward: 160.03, losses: value 125.35, policy -0.02, Hit max 94 times, recent avg 153.89:   6%|▌         | 62/1000 [22:27<6:59:31, 26.84s/it]"
          ],
          "name": "stderr"
        },
        {
          "output_type": "stream",
          "text": [
            "\n"
          ],
          "name": "stdout"
        },
        {
          "output_type": "stream",
          "text": [
            "Reward: 154.48, losses: value 222.51, policy 0.06, Hit max 89 times, recent avg 161.31:   7%|▋         | 72/1000 [26:56<6:48:32, 26.41s/it]"
          ],
          "name": "stderr"
        },
        {
          "output_type": "stream",
          "text": [
            "\n"
          ],
          "name": "stdout"
        },
        {
          "output_type": "stream",
          "text": [
            "Reward: 161.81, losses: value 89.95, policy 0.06, Hit max 97 times, recent avg 156.14:   8%|▊         | 82/1000 [31:31<6:53:42, 27.04s/it]"
          ],
          "name": "stderr"
        },
        {
          "output_type": "stream",
          "text": [
            "\n"
          ],
          "name": "stdout"
        },
        {
          "output_type": "stream",
          "text": [
            "Reward: 160.98, losses: value 120.08, policy 0.02, Hit max 96 times, recent avg 156.89:   9%|▉         | 92/1000 [36:09<6:55:27, 27.45s/it]"
          ],
          "name": "stderr"
        },
        {
          "output_type": "stream",
          "text": [
            "\n"
          ],
          "name": "stdout"
        },
        {
          "output_type": "stream",
          "text": [
            "Reward: 149.84, losses: value 223.32, policy -0.05, Hit max 95 times, recent avg 146.80:  10%|█         | 102/1000 [40:31<6:24:42, 25.70s/it]"
          ],
          "name": "stderr"
        },
        {
          "output_type": "stream",
          "text": [
            "\n"
          ],
          "name": "stdout"
        },
        {
          "output_type": "stream",
          "text": [
            "Reward: 145.50, losses: value 365.26, policy 0.16, Hit max 88 times, recent avg 147.65:  11%|█         | 112/1000 [44:54<6:25:46, 26.07s/it]"
          ],
          "name": "stderr"
        },
        {
          "output_type": "stream",
          "text": [
            "\n"
          ],
          "name": "stdout"
        },
        {
          "output_type": "stream",
          "text": [
            "Reward: 171.12, losses: value 39.74, policy 0.00, Hit max 99 times, recent avg 166.22:  12%|█▏        | 122/1000 [49:24<6:38:24, 27.23s/it]"
          ],
          "name": "stderr"
        },
        {
          "output_type": "stream",
          "text": [
            "\n"
          ],
          "name": "stdout"
        },
        {
          "output_type": "stream",
          "text": [
            "Reward: 161.93, losses: value 142.97, policy 0.03, Hit max 92 times, recent avg 164.54:  13%|█▎        | 132/1000 [53:52<6:31:43, 27.08s/it]"
          ],
          "name": "stderr"
        },
        {
          "output_type": "stream",
          "text": [
            "\n"
          ],
          "name": "stdout"
        },
        {
          "output_type": "stream",
          "text": [
            "Reward: 209.97, losses: value 634.70, policy -0.04, Hit max 55 times, recent avg 181.74:  14%|█▍        | 142/1000 [58:21<6:17:08, 26.37s/it]"
          ],
          "name": "stderr"
        },
        {
          "output_type": "stream",
          "text": [
            "\n"
          ],
          "name": "stdout"
        },
        {
          "output_type": "stream",
          "text": [
            "Reward: 214.57, losses: value 548.66, policy -0.08, Hit max 49 times, recent avg 197.30:  14%|█▍        | 144/1000 [59:11<6:04:51, 25.57s/it]"
          ],
          "name": "stderr"
        },
        {
          "output_type": "display_data",
          "data": {
            "image/png": "[encoded data removed]",
            "text/plain": [
              "<matplotlib.figure.Figure at 0x7f32cbb5a9b0>"
            ]
          },
          "metadata": {
            "tags": []
          }
        }
      ]
    },
    {
      "metadata": {
        "id": "L5jxE2xAvzJg",
        "colab_type": "code",
        "colab": {}
      },
      "cell_type": "code",
      "source": [
        "\n"
      ],
      "execution_count": 0,
      "outputs": []
    }
  ]
}