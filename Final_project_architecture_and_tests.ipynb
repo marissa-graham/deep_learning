{
  "nbformat": 4,
  "nbformat_minor": 0,
  "metadata": {
    "colab": {
      "name": "Architecture and tests.ipynb",
      "version": "0.3.2",
      "provenance": [],
      "collapsed_sections": [
        "PdPeKPEC7dBS",
        "YFpsJ7xMvFaY"
      ],
      "include_colab_link": true
    },
    "kernelspec": {
      "name": "python3",
      "display_name": "Python 3"
    },
    "accelerator": "GPU"
  },
  "cells": [
    {
      "cell_type": "markdown",
      "metadata": {
        "id": "view-in-github",
        "colab_type": "text"
      },
      "source": [
        "<a href=\"https://colab.research.google.com/github/marissa-graham/deep_learning/blob/master/Final_project_architecture_and_tests.ipynb\" target=\"_parent\"><img src=\"https://colab.research.google.com/assets/colab-badge.svg\" alt=\"Open In Colab\"/></a>"
      ]
    },
    {
      "metadata": {
        "id": "az0tjXndyWVJ",
        "colab_type": "code",
        "colab": {}
      },
      "cell_type": "code",
      "source": [
        "#!pip install --no-cache-dir -I pillow # This line must be FIRST\n",
        "!pip3 install torch torchvision tqdm\n",
        "!pip3 install pillow==4.1.1"
      ],
      "execution_count": 0,
      "outputs": []
    },
    {
      "metadata": {
        "id": "K5UxkeF7yl-4",
        "colab_type": "code",
        "colab": {}
      },
      "cell_type": "code",
      "source": [
        "import PIL.Image\n",
        "\n",
        "def register_extension(id, extension):\n",
        "    PIL.Image.EXTENSION[extension.lower()] = id.upper()\n",
        "PIL.Image.register_extension = register_extension\n",
        "\n",
        "def register_extensions(id, extensions):\n",
        "    for extension in extensions:\n",
        "        register_extension(id, extension)\n",
        "PIL.Image.register_extensions = register_extensions\n",
        "\n",
        "\n",
        "import os\n",
        "import csv\n",
        "import glob\n",
        "from collections import defaultdict\n",
        "\n",
        "import seaborn\n",
        "import numpy as np\n",
        "from matplotlib import pyplot as plt\n",
        "from tqdm import tqdm\n",
        "\n",
        "import torch\n",
        "import torchvision\n",
        "from torch import nn\n",
        "from torch import optim\n",
        "from torch.nn import functional as F\n",
        "from torch.utils.data import Dataset, DataLoader\n",
        "from torch.utils.data import RandomSampler, BatchSampler\n",
        "from torchvision import models, transforms, utils, datasets"
      ],
      "execution_count": 0,
      "outputs": []
    },
    {
      "metadata": {
        "id": "rjgMMdLMyu8N",
        "colab_type": "code",
        "outputId": "085f23cd-f22a-4917-9e30-a29f84428329",
        "colab": {
          "base_uri": "https://localhost:8080/",
          "height": 406
        }
      },
      "cell_type": "code",
      "source": [
        "from google.colab import drive\n",
        "#drive.mount('/content/gdrive')\n",
        "\n",
        "# Make sure I've got drive mounted\n",
        "glob.glob('/content/gdrive/My Drive/CS 501R/Final Project/*')"
      ],
      "execution_count": 0,
      "outputs": [
        {
          "output_type": "execute_result",
          "data": {
            "text/plain": [
              "['/content/gdrive/My Drive/CS 501R/Final Project/Old Exams',\n",
              " '/content/gdrive/My Drive/CS 501R/Final Project/Summary of data available.gdoc',\n",
              " '/content/gdrive/My Drive/CS 501R/Final Project/metadata_finished.csv',\n",
              " '/content/gdrive/My Drive/CS 501R/Final Project/Graded Pages',\n",
              " '/content/gdrive/My Drive/CS 501R/Final Project/pleeeaaaase.png',\n",
              " '/content/gdrive/My Drive/CS 501R/Final Project/test2.png',\n",
              " '/content/gdrive/My Drive/CS 501R/Final Project/test100.png',\n",
              " '/content/gdrive/My Drive/CS 501R/Final Project/test125.png',\n",
              " '/content/gdrive/My Drive/CS 501R/Final Project/test72.png',\n",
              " '/content/gdrive/My Drive/CS 501R/Final Project/metadata.csv',\n",
              " '/content/gdrive/My Drive/CS 501R/Final Project/Score Labeled',\n",
              " '/content/gdrive/My Drive/CS 501R/Final Project/metadata_finished.gsheet',\n",
              " '/content/gdrive/My Drive/CS 501R/Final Project/Notes and Spec.gdoc',\n",
              " '/content/gdrive/My Drive/CS 501R/Final Project/501R final project.gsheet',\n",
              " '/content/gdrive/My Drive/CS 501R/Final Project/Initial dataset creation.ipynb',\n",
              " '/content/gdrive/My Drive/CS 501R/Final Project/Architecture and tests.ipynb',\n",
              " '/content/gdrive/My Drive/CS 501R/Final Project/score_labeling0_50.csv',\n",
              " '/content/gdrive/My Drive/CS 501R/Final Project/score_labeling.gsheet',\n",
              " '/content/gdrive/My Drive/CS 501R/Final Project/score_labeling50_100.csv',\n",
              " '/content/gdrive/My Drive/CS 501R/Final Project/score_labeling100_150.csv',\n",
              " '/content/gdrive/My Drive/CS 501R/Final Project/score_labeling150_225.csv',\n",
              " '/content/gdrive/My Drive/CS 501R/Final Project/score_labeling225_350.csv']"
            ]
          },
          "metadata": {
            "tags": []
          },
          "execution_count": 3
        }
      ]
    },
    {
      "metadata": {
        "id": "PEdlztPxy6Az",
        "colab_type": "code",
        "outputId": "78acda32-20e6-4827-835a-71a75384a437",
        "colab": {
          "base_uri": "https://localhost:8080/",
          "height": 54
        }
      },
      "cell_type": "code",
      "source": [
        "PARTIAL_BASE = '/content/gdrive/My Drive/CS 501R/Final Project/'\n",
        "\n",
        "NEW_NAMES = {\"W18 Exam 1\":\"W18_Exam1\", \"M112 F17 Final Exam\":\"F17_Final\",\n",
        "                \"M112 W18 Final Exam\":\"W18_Final\", \"Math112Exam2\":\"F18_Exam2\",\n",
        "                \"M112_Fall_2018_Midterm_1\":\"F18_Exam1\", \"F17 Exam2\":\"F17_Exam2\",\n",
        "                \"Exam 2 Winter 2018\":\"W18_Exam2\"}\n",
        "\n",
        "def display_img(img):\n",
        "    fig = plt.figure(figsize=(9,12))\n",
        "    img = img.permute(1,2,0)\n",
        "    plt.imshow(img.detach())\n",
        "    plt.show()\n",
        "        \n",
        "def count_loaded():\n",
        "    for _, folder in NEW_NAMES.items():\n",
        "        base_name = PARTIAL_BASE + \"Graded Pages/\" + folder\n",
        "        print(len(glob.glob(base_name + \"/*.png\")))\n",
        "\n",
        "    print(\"Total:\", len(glob.glob(PARTIAL_BASE + \"Graded Pages/**/*.png\", \n",
        "                                  recursive=True)))\n",
        "    \n",
        "def new_filename(original_filename):\n",
        "    s = original_filename.replace(base_filename('Old Exams/'),\"\").rsplit('/')\n",
        "    return \"Graded Pages/\" + NEW_NAMES[s[0]] + \"/\" + s[-1].replace(\".pdf\",\"\")\n",
        "\n",
        "def base_filename(extension=\"\"):\n",
        "    return '/content/gdrive/My Drive/CS 501R/Final Project/' + extension\n",
        "\n",
        "def short_filename(filename):\n",
        "    return filename.replace(base_filename(), \"\")"
      ],
      "execution_count": 0,
      "outputs": [
        {
          "output_type": "execute_result",
          "data": {
            "text/plain": [
              "\"\\nwith open(base_filename('metadata_finished.csv'),'r') as f:\\n    reader = csv.reader(f)\\n    for (fname, source, stub, num, val, ignore, _) in reader:\\n        if ignore == '0':\\n            print(stub, '|||', new_filename(fname))\\n\""
            ]
          },
          "metadata": {
            "tags": []
          },
          "execution_count": 4
        }
      ]
    },
    {
      "metadata": {
        "id": "oYKI6mUWzSyK",
        "colab_type": "code",
        "colab": {}
      },
      "cell_type": "code",
      "source": [
        "class Graded112Dataset(Dataset):\n",
        "    \n",
        "    def __init__(self, height=256, width=512, score_labeled=False, \n",
        "                 cutoff_length=None):\n",
        "        \n",
        "        self.height = height\n",
        "        self.cutoff_length = cutoff_length\n",
        "        \n",
        "        if score_labeled:\n",
        "            extension = 'Score Labeled/'\n",
        "        else:\n",
        "            extension = 'Graded Pages/'\n",
        "            \n",
        "        self.image_folder = torchvision.datasets.ImageFolder(\n",
        "            base_filename(extension), \n",
        "            transform = transforms.Compose([\n",
        "                transforms.Resize((820,640)),\n",
        "                transforms.CenterCrop((640,512)),\n",
        "                transforms.Resize((int(2.5*height),width)),\n",
        "                transforms.ToTensor()\n",
        "            ])\n",
        "        )\n",
        "        \n",
        "        # Construct question value dict\n",
        "        if not score_labeled:\n",
        "            self.get_question_values()\n",
        "            self.scores = np.full(len(self.image_folder), -1)\n",
        "        \n",
        "        # Same for scores, if appropriate\n",
        "        if score_labeled:\n",
        "            self.get_question_values()\n",
        "            self.get_scores()    \n",
        "        \n",
        "    def get_question_values(self):\n",
        "    \n",
        "        self.qvaldict= dict()\n",
        "        with open(base_filename('metadata_finished.csv'), 'r') as f:\n",
        "            reader = csv.reader(f)\n",
        "            for (file, source, stub, num, val, ignore, reason) in reader:\n",
        "                if ignore == '0':\n",
        "                    self.qvaldict[new_filename(file)] = int(val)  \n",
        "                    \n",
        "        # And associated question value list\n",
        "        self.qvals = np.zeros(len(self.image_folder))\n",
        "        for i in range(len(self.image_folder)):\n",
        "            fname = short_filename(self.image_folder.imgs[i][0])\n",
        "            self.qvals[i] = self.qvaldict[fname.rsplit('_page')[0]]\n",
        "        \n",
        "    def get_scores(self):\n",
        "        pass\n",
        "        \n",
        "    def __getitem__(self, i):\n",
        "        \"\"\"\n",
        "        Return the image, the pts it's worth, and its score\n",
        "        \n",
        "        aka page, score, max_score\n",
        "        \"\"\"\n",
        "        img = self.image_folder[i]\n",
        "        \n",
        "        # We only want the top bit\n",
        "        return img[0].narrow(1, 0, self.height), -1, self.qvals[i]\n",
        "    \n",
        "    def __len__(self):\n",
        "        \"\"\"\n",
        "        If you want to change the number used, just hard-code it here\n",
        "        \"\"\"\n",
        "        if self.cutoff_length:\n",
        "            return self.cutoff_length\n",
        "        else:\n",
        "            return len(self.image_folder)"
      ],
      "execution_count": 0,
      "outputs": []
    },
    {
      "metadata": {
        "id": "jsrdIX1ONfFU",
        "colab_type": "text"
      },
      "cell_type": "markdown",
      "source": [
        "### Test to make sure Graded112Dataset is working as expected\n"
      ]
    },
    {
      "metadata": {
        "id": "HgyslGdh88J5",
        "colab_type": "code",
        "outputId": "7d309275-8863-4038-9bae-e8974750574f",
        "colab": {
          "base_uri": "https://localhost:8080/",
          "height": 640
        }
      },
      "cell_type": "code",
      "source": [
        "def test_dataset():\n",
        "    dataset = Graded112Dataset(cutoff_length=100)\n",
        "\n",
        "    n = len(dataset)\n",
        "    split_ind = int(0.1*n)\n",
        "    train_data, val_data = random_split(dataset, lengths=(n - split_ind, split_ind))\n",
        "\n",
        "    train_loader = DataLoader(train_data, batch_size=2, shuffle=True)\n",
        "    val_loader = DataLoader(val_data, batch_size=2, shuffle=True)\n",
        "\n",
        "    for batch_num, (pages, true_score, true_max) in enumerate(train_loader):\n",
        "        for i in range(2):\n",
        "            display_img(pages[i])\n",
        "        print(pages.shape)\n",
        "        print(true_score)\n",
        "        print(true_max)\n",
        "        break\n",
        "        \n",
        "test_dataset()"
      ],
      "execution_count": 0,
      "outputs": [
        {
          "output_type": "display_data",
          "data": {
            "image/png": "[encoded data removed]",
            "text/plain": [
              "<matplotlib.figure.Figure at 0x7f9a73a57d30>"
            ]
          },
          "metadata": {
            "tags": []
          }
        },
        {
          "output_type": "display_data",
          "data": {
            "image/png": "[encoded data removed]",
            "text/plain": [
              "<matplotlib.figure.Figure at 0x7f9a106c2080>"
            ]
          },
          "metadata": {
            "tags": []
          }
        },
        {
          "output_type": "stream",
          "text": [
            "torch.Size([2, 3, 256, 512])\n",
            "tensor([-1, -1])\n",
            "tensor([6., 6.], dtype=torch.float64)\n"
          ],
          "name": "stdout"
        }
      ]
    },
    {
      "metadata": {
        "id": "PofsgsCfNlUC",
        "colab_type": "text"
      },
      "cell_type": "markdown",
      "source": [
        "## Lab 3 architecture"
      ]
    },
    {
      "metadata": {
        "id": "6__ma-WDNkhc",
        "colab_type": "code",
        "colab": {}
      },
      "cell_type": "code",
      "source": [
        "class ConvNetwork(nn.Module):\n",
        "    \n",
        "    def __init__(self, c, H, W, output):\n",
        "        \n",
        "        super(ConvNetwork, self).__init__()\n",
        "        \n",
        "        self.conv_net = nn.Sequential(\n",
        "            nn.Conv2d(c, 10, 3, padding=1), \n",
        "            nn.ReLU(),\n",
        "            nn.Conv2d(10, 32, 3, padding=1), \n",
        "            nn.ReLU(),\n",
        "            nn.Conv2d(32, 64, 3, padding=1), \n",
        "            nn.ReLU(),\n",
        "            nn.Conv2d(64, 64, 3, padding=1), \n",
        "            nn.ReLU(),\n",
        "            nn.Conv2d(64, 32, 3, padding=1), \n",
        "            nn.ReLU(),\n",
        "            nn.Conv2d(32, 32, 3, padding=1), \n",
        "            nn.ReLU(),\n",
        "            nn.Conv2d(32, 10, 3, stride=2, padding=1), \n",
        "            nn.ReLU()\n",
        "        )\n",
        "        self.linear =  nn.Linear(10*H*W//4, output)\n",
        "        \n",
        "    def forward(self, x):\n",
        "        \n",
        "        with_conv = self.conv_net(x)\n",
        "        n, c, h, w = with_conv.size()\n",
        "        return self.linear(with_conv.view(n, c*h*w))"
      ],
      "execution_count": 0,
      "outputs": []
    },
    {
      "metadata": {
        "id": "PdPeKPEC7dBS",
        "colab_type": "text"
      },
      "cell_type": "markdown",
      "source": [
        "## ResNet architecture"
      ]
    },
    {
      "metadata": {
        "id": "JMUJHU0GzXmU",
        "colab_type": "code",
        "colab": {}
      },
      "cell_type": "code",
      "source": [
        "def conv3x3(in_filters, out_filters, stride=1):\n",
        "    \"\"\"3x3 convolution with padding\"\"\"\n",
        "    return nn.Conv2d(in_filters, out_filters, kernel_size=3, stride=stride,\n",
        "                     padding=1, bias=False)\n",
        "\n",
        "class BasicBlock(nn.Module):\n",
        "    \n",
        "    expansion = 1\n",
        "\n",
        "    def __init__(self, infilters, filters, stride=1, downsample=None):\n",
        "        \n",
        "        super(BasicBlock, self).__init__()\n",
        "        \n",
        "        self.conv1 = conv3x3(infilters, filters, stride)\n",
        "        self.batchnorm1 = nn.BatchNorm2d(filters)\n",
        "        self.relu = nn.ReLU(inplace=True)\n",
        "        self.conv2 = conv3x3(filters, filters)\n",
        "        self.batchnorm2 = nn.BatchNorm2d(filters)\n",
        "        self.downsample = downsample\n",
        "        self.stride = stride\n",
        "\n",
        "    def forward(self, x):\n",
        "        \"\"\"\n",
        "        Makes two layers; ReLU(F(x) + x), where F is two batchnormed conv layers\n",
        "        \"\"\"\n",
        "        residual = x\n",
        "\n",
        "        out = self.conv1(x)\n",
        "        out = self.batchnorm1(out)\n",
        "        out = self.relu(out)\n",
        "\n",
        "        out = self.conv2(out)\n",
        "        out = self.batchnorm2(out)\n",
        "\n",
        "        if self.downsample is not None:\n",
        "            residual = self.downsample(x)\n",
        "\n",
        "        out += residual\n",
        "        out = self.relu(out)\n",
        "\n",
        "        return out\n",
        "    \n",
        "class myResNet(nn.Module):\n",
        "    \"\"\"\n",
        "    Adapt the ResNet architecture to my image sizes.\n",
        "    \"\"\"\n",
        "    def __init__(self, layers, height=256, width=512, num_classes=11):\n",
        "        \"\"\"\n",
        "        block is \"BasicBlock\" or \"Bottleneck\"\n",
        "        \n",
        "        layers is length 4; how many layers do you want at each number of filters\n",
        "        \n",
        "        BatchNorm2d expects C from an expected input of size (N, C, H, W)\n",
        "        \n",
        "        Conv2d params: C_in, C_out, kernel, stride, padding\n",
        "            input: (N, C_in, H, W)\n",
        "            output: (N, C_out, H_out, W_out)\n",
        "        \n",
        "        *Pool2d params: k, s, p (default 0)\n",
        "            input: (N, C, H, W)\n",
        "            output: (N, C, H_out, W_out)\n",
        "         \n",
        "        H_out = floor( (H_in + 2*p - k)/s + 1 )\n",
        "        W_out = floor( (W_in + 2*p - k)/s + 1 )\n",
        "        \"\"\"\n",
        "        \n",
        "        infilters = 64\n",
        "        H = height\n",
        "        W = width\n",
        "        if H/32 != H//32 or W/32 != W//32:\n",
        "            raise ValueError(\"Image dims must be divisible by 32\")\n",
        "        \n",
        "        super(myResNet, self).__init__()\n",
        "        \n",
        "        self.conv1 = nn.Conv2d(3, infilters, kernel_size=7, stride=2, padding=3,\n",
        "                               bias=False)\n",
        "        self.bn1 = nn.BatchNorm2d(infilters)\n",
        "        self.relu = nn.ReLU(inplace=True)\n",
        "        self.maxpool = nn.MaxPool2d(kernel_size=3, stride=2, \n",
        "                                    padding=1) # (N, infilters, H/4, W/4)\n",
        "        \n",
        "        self.layer1 = self._make_layer(infilters, infilters, \n",
        "                                       layers[0]) # (N, infilters, H/4, W/4)\n",
        "        \n",
        "        self.layer2 = self._make_layer(infilters, 2*infilters, layers[1], \n",
        "                                       stride=2) # (N, 2*infilters, H/8, W/8)\n",
        "        \n",
        "        self.layer3 = self._make_layer(2*infilters, 4*infilters, layers[2], \n",
        "                                       stride=2) # (N, 4*infilters, H/16, W/16)\n",
        "                                       \n",
        "        self.layer4 = self._make_layer(4*infilters, 8*infilters, layers[3], \n",
        "                                       stride=2) # (N, 8*infilters, H/32, W/32)\n",
        "     \n",
        "        self.avgpool = nn.AvgPool2d(kernel_size=(int(H/32), int(W/32)), \n",
        "                                   stride=1) # (N, 8*infilters, 1, 1)\n",
        "            \n",
        "        self.fc = nn.Linear(8*infilters, num_classes)\n",
        "\n",
        "        # Initialize weights; normal dist. for Conv and zero for batchnorms\n",
        "        for m in self.modules():\n",
        "            if isinstance(m, nn.Conv2d):\n",
        "                n = m.kernel_size[0] * m.kernel_size[1] * m.out_channels\n",
        "                m.weight.data.normal_(0, np.sqrt(2. / n))\n",
        "            elif isinstance(m, nn.BatchNorm2d):\n",
        "                m.weight.data.fill_(1)\n",
        "                m.bias.data.zero_()\n",
        "\n",
        "    def _make_layer(self, infilters, filters, blocks, stride=1):\n",
        "        \n",
        "        # Make sure the residual we're adding matches the output\n",
        "        downsample = None\n",
        "        if stride != 1 or infilters != filters:\n",
        "            downsample = nn.Sequential(\n",
        "                nn.Conv2d(infilters, filters,\n",
        "                          kernel_size=1, stride=stride, bias=False),\n",
        "                nn.BatchNorm2d(filters),\n",
        "            )\n",
        "\n",
        "        layers = []\n",
        "        layers.append(BasicBlock(infilters, filters, stride, downsample))\n",
        "        for i in range(1, blocks):\n",
        "            layers.append(BasicBlock(filters, filters))\n",
        "\n",
        "        return nn.Sequential(*layers)\n",
        "\n",
        "    def forward(self, x):\n",
        "        \n",
        "        x = self.conv1(x)\n",
        "        x = self.bn1(x)\n",
        "        x = self.relu(x)\n",
        "        x = self.maxpool(x)\n",
        "\n",
        "        x = self.layer1(x)\n",
        "        x = self.layer2(x)\n",
        "        x = self.layer3(x)\n",
        "        x = self.layer4(x)\n",
        "\n",
        "        x = self.avgpool(x)\n",
        "        x = x.view(x.size(0), -1)\n",
        "        x = self.fc(x)\n",
        "\n",
        "        return x"
      ],
      "execution_count": 0,
      "outputs": []
    },
    {
      "metadata": {
        "id": "MDbvmqWe7gdA",
        "colab_type": "text"
      },
      "cell_type": "markdown",
      "source": [
        "## Main"
      ]
    },
    {
      "metadata": {
        "id": "1OtGOhUAzngs",
        "colab_type": "code",
        "colab": {}
      },
      "cell_type": "code",
      "source": [
        "def scope(H, W, cutoff_length, batch_size, num_epochs, val_batches, \n",
        "          model_type='resnet-18', learning_rate=1e-5):\n",
        "    \n",
        "    train_data = Graded112Dataset(height=H, width=W, \n",
        "                                     cutoff_length=cutoff_length)\n",
        "    val_data = Graded112Dataset(height=H, width=W)\n",
        "    \n",
        "    output_classes = 11 # Scores from 0 to 10 (account for both score & maxpts)\n",
        "\n",
        "    train_loader = DataLoader(train_data, batch_size=batch_size, shuffle=True)\n",
        "    val_loader = DataLoader(val_data, batch_size=batch_size,\n",
        "                            sampler=RandomSampler(val_data, replacement=True, \n",
        "                                            num_samples=batch_size*val_batches)\n",
        "                           )\n",
        "    n = len(train_loader)\n",
        "    \n",
        "    if model_type == 'resnet-18':\n",
        "        model = myResNet([2,2,2,2], height=H, width=W).cuda() # resnet-18\n",
        "    elif model_type == 'resnet-34':\n",
        "        model = myResNet([3,4,6,3], height=H, width=W).cuda()\n",
        "    elif model_type == 'Lab3':\n",
        "        model = ConvNetwork(3, H, W, output_classes).cuda()\n",
        "\n",
        "    objective = nn.CrossEntropyLoss()\n",
        "    optimizer = optim.Adam(model.parameters(), lr=learning_rate)\n",
        "    losses, validations, train_accuracies, val_accuracies = [], [], [], []\n",
        "    \n",
        "    for epoch in range(num_epochs):\n",
        "        \n",
        "        print\n",
        "        #loop = tqdm(total=n, position=0, leave=True)\n",
        "\n",
        "        for batch, (pages, true_score, true_max) in enumerate(train_loader):\n",
        "            \n",
        "            print(true_max)\n",
        "            \"\"\"\n",
        "            x, y_truth = pages.cuda(), true_max.cuda().long()\n",
        "            optimizer.zero_grad()\n",
        "            \n",
        "            y_hat = model(x)\n",
        "            loss = objective(y_hat, y_truth) # expected Long, got Double\n",
        "            num_correct = torch.sum(y_truth == torch.argmax(y_hat,dim=1))\n",
        "            a = float(num_correct) / float(batch_size)\n",
        "            train_accuracies.append(a)\n",
        "\n",
        "            loss.backward()\n",
        "            losses.append(loss.item())\n",
        "\n",
        "            s = \"Epoch {}: loss {:.4f}, accuracy {:.3f}\".format(epoch, loss, a)\n",
        "            loop.set_description(s)\n",
        "            loop.update(1)\n",
        "\n",
        "            optimizer.step()\n",
        "            \"\"\"\n",
        "            \n",
        "            if batch % 10 == 0:\n",
        "                \n",
        "                \"\"\"\n",
        "                val = 0\n",
        "                val_acc = 0\n",
        "                loop2 = tqdm(total=val_batches, position=0, leave=True)\n",
        "                \"\"\"\n",
        "                for i, (pgs, true_s, true_pts) in enumerate(val_loader):\n",
        "                    \n",
        "                    print(\"VAL\", true_pts)\n",
        "                    \"\"\"\n",
        "                    x, y_truth = pgs.cuda(), true_pts.cuda().long()\n",
        "                    y_hat = model(x)\n",
        "                    \n",
        "                    loss = objective(y_hat, y_truth).item()\n",
        "                    num_correct = torch.sum(y_truth==torch.argmax(y_hat,dim=1))\n",
        "                    a = float(num_correct)/float(batch_size)\n",
        "                    \n",
        "                    s = 'Val {}/{}: loss {:.3f}, acc. {:.3f}'.format(i, \n",
        "                                                      val_batches, loss, a)\n",
        "                    loop2.set_description(s)\n",
        "                    loop2.update(1)\n",
        "                    \n",
        "                    print(np.round(loss, 2), \",\", a)\n",
        "                    val += loss/val_batches\n",
        "                    val_acc += a/val_batches\n",
        "                    \n",
        "                validations.append((len(losses), val))\n",
        "                val_accuracies.append((len(losses), val_acc))\n",
        "                \n",
        "                s = \"Validation test {}/{}: loss {:.3f}, acc: {:.3f}\".format(\n",
        "                    batch//100+1, len(train_loader)//100 +1, val, val_acc)\n",
        "                loop2.set_description(s)\n",
        "                loop2.close()\n",
        "                \n",
        "                \n",
        "        loop.close()\n",
        "        print()\n",
        "        \"\"\"\n",
        "\n",
        "    # Plot accuracy of training and validation set over time\n",
        "    \n",
        "    fig, (ax1, ax2) = plt.subplots(1, 2, figsize=(10,4.5))\n",
        "    \n",
        "    a, b = zip(*validations)\n",
        "    ax1.plot(losses, label='train')\n",
        "    ax1.plot(a, b, label='val')\n",
        "    ax1.set_xlabel('Batch number')\n",
        "    ax1.set_ylabel('Loss')\n",
        "    ax1.set_title(\"Loss over {} epochs\".format(num_epochs))\n",
        "    ax1.legend()\n",
        "    \n",
        "    a, b = zip(*val_accuracies)\n",
        "    ax2.plot(train_accuracies, label='train')\n",
        "    ax2.plot(a, b, label='val')\n",
        "    ax2.set_xlabel('Batch number')\n",
        "    ax2.set_ylabel('Accuracy rate')\n",
        "    ax2.set_title(\"Accuracy over {} epochs\".format(num_epochs))\n",
        "    ax2.legend()\n",
        "    \n",
        "    fig.suptitle(\"{} with {}x{} images, batch_size {}, images total\".format(model_type,\n",
        "                 H, W, batch_size, cutoff_length))\n",
        "    plt.show()"
      ],
      "execution_count": 0,
      "outputs": []
    },
    {
      "metadata": {
        "id": "YFpsJ7xMvFaY",
        "colab_type": "text"
      },
      "cell_type": "markdown",
      "source": [
        "# Experiments"
      ]
    },
    {
      "metadata": {
        "id": "_4pK4igFBkXi",
        "colab_type": "code",
        "colab": {}
      },
      "cell_type": "code",
      "source": [
        "import gc\n",
        "gc.collect()"
      ],
      "execution_count": 0,
      "outputs": []
    },
    {
      "metadata": {
        "id": "G8qxQygC2nLt",
        "colab_type": "code",
        "outputId": "f2545b22-daf2-4851-f356-2a0ff028e8f3",
        "colab": {
          "base_uri": "https://localhost:8080/",
          "height": 1694
        }
      },
      "cell_type": "code",
      "source": [
        "scope(H=32, W=64, cutoff_length=510, batch_size=5, num_epochs=3, \n",
        "      val_batches=5, model_type='resnet-18')"
      ],
      "execution_count": 0,
      "outputs": [
        {
          "output_type": "stream",
          "text": [
            "\r  0%|          | 0/102 [00:00<?, ?it/s]"
          ],
          "name": "stderr"
        },
        {
          "output_type": "stream",
          "text": [
            "tensor([6., 6., 6., 6., 6.], dtype=torch.float64)\n",
            "VAL tensor([6., 7., 7., 7., 6.], dtype=torch.float64)\n",
            "VAL tensor([ 7.,  8., 10.,  8.,  6.], dtype=torch.float64)\n",
            "VAL tensor([6., 6., 7., 6., 7.], dtype=torch.float64)\n",
            "VAL tensor([6., 6., 6., 8., 8.], dtype=torch.float64)\n",
            "VAL tensor([6., 8., 8., 8., 8.], dtype=torch.float64)\n",
            "tensor([6., 6., 6., 6., 6.], dtype=torch.float64)\n",
            "tensor([6., 6., 6., 6., 6.], dtype=torch.float64)\n",
            "tensor([6., 6., 6., 6., 6.], dtype=torch.float64)\n",
            "tensor([6., 6., 6., 6., 6.], dtype=torch.float64)\n",
            "tensor([6., 6., 6., 6., 6.], dtype=torch.float64)\n",
            "tensor([6., 6., 6., 6., 6.], dtype=torch.float64)\n",
            "tensor([6., 6., 6., 6., 6.], dtype=torch.float64)\n",
            "tensor([6., 6., 6., 6., 6.], dtype=torch.float64)\n",
            "tensor([6., 6., 6., 6., 6.], dtype=torch.float64)\n",
            "tensor([6., 6., 6., 6., 6.], dtype=torch.float64)\n",
            "VAL tensor([8., 8., 7., 6., 6.], dtype=torch.float64)\n",
            "VAL tensor([6., 7., 8., 7., 7.], dtype=torch.float64)\n",
            "VAL tensor([7., 8., 8., 6., 6.], dtype=torch.float64)\n",
            "VAL tensor([ 8., 10.,  8.,  8.,  6.], dtype=torch.float64)\n",
            "VAL tensor([5., 6., 7., 8., 7.], dtype=torch.float64)\n",
            "tensor([6., 6., 6., 6., 6.], dtype=torch.float64)\n",
            "tensor([6., 6., 6., 6., 6.], dtype=torch.float64)\n",
            "tensor([6., 6., 6., 6., 6.], dtype=torch.float64)\n",
            "tensor([6., 6., 6., 6., 6.], dtype=torch.float64)\n",
            "tensor([6., 6., 6., 6., 6.], dtype=torch.float64)\n",
            "tensor([6., 6., 6., 6., 6.], dtype=torch.float64)\n",
            "tensor([6., 6., 6., 6., 6.], dtype=torch.float64)\n",
            "tensor([6., 6., 6., 6., 6.], dtype=torch.float64)\n",
            "tensor([6., 6., 6., 6., 6.], dtype=torch.float64)\n",
            "tensor([6., 6., 6., 6., 6.], dtype=torch.float64)\n",
            "VAL tensor([8., 7., 6., 8., 6.], dtype=torch.float64)\n",
            "VAL tensor([8., 6., 8., 8., 8.], dtype=torch.float64)\n"
          ],
          "name": "stdout"
        },
        {
          "output_type": "error",
          "ename": "KeyboardInterrupt",
          "evalue": "ignored",
          "traceback": [
            "\u001b[0;31m---------------------------------------------------------------------------\u001b[0m",
            "\u001b[0;31mKeyboardInterrupt\u001b[0m                         Traceback (most recent call last)",
            "\u001b[0;32m<ipython-input-70-b545743ef5e6>\u001b[0m in \u001b[0;36m<module>\u001b[0;34m()\u001b[0m\n\u001b[1;32m      1\u001b[0m scope(H=32, W=64, cutoff_length=510, batch_size=5, num_epochs=3, \n\u001b[0;32m----> 2\u001b[0;31m       val_batches=5, model_type='resnet-18')\n\u001b[0m",
            "\u001b[0;32m<ipython-input-68-d60e86feb40b>\u001b[0m in \u001b[0;36mscope\u001b[0;34m(H, W, cutoff_length, batch_size, num_epochs, val_batches, model_type, learning_rate)\u001b[0m\n\u001b[1;32m     60\u001b[0m                 \u001b[0mloop2\u001b[0m \u001b[0;34m=\u001b[0m \u001b[0mtqdm\u001b[0m\u001b[0;34m(\u001b[0m\u001b[0mtotal\u001b[0m\u001b[0;34m=\u001b[0m\u001b[0mval_batches\u001b[0m\u001b[0;34m,\u001b[0m \u001b[0mposition\u001b[0m\u001b[0;34m=\u001b[0m\u001b[0;36m0\u001b[0m\u001b[0;34m,\u001b[0m \u001b[0mleave\u001b[0m\u001b[0;34m=\u001b[0m\u001b[0;32mTrue\u001b[0m\u001b[0;34m)\u001b[0m\u001b[0;34m\u001b[0m\u001b[0;34m\u001b[0m\u001b[0m\n\u001b[1;32m     61\u001b[0m                 \"\"\"\n\u001b[0;32m---> 62\u001b[0;31m                 \u001b[0;32mfor\u001b[0m \u001b[0mi\u001b[0m\u001b[0;34m,\u001b[0m \u001b[0;34m(\u001b[0m\u001b[0mpgs\u001b[0m\u001b[0;34m,\u001b[0m \u001b[0mtrue_s\u001b[0m\u001b[0;34m,\u001b[0m \u001b[0mtrue_pts\u001b[0m\u001b[0;34m)\u001b[0m \u001b[0;32min\u001b[0m \u001b[0menumerate\u001b[0m\u001b[0;34m(\u001b[0m\u001b[0mval_loader\u001b[0m\u001b[0;34m)\u001b[0m\u001b[0;34m:\u001b[0m\u001b[0;34m\u001b[0m\u001b[0;34m\u001b[0m\u001b[0m\n\u001b[0m\u001b[1;32m     63\u001b[0m \u001b[0;34m\u001b[0m\u001b[0m\n\u001b[1;32m     64\u001b[0m                     \u001b[0mprint\u001b[0m\u001b[0;34m(\u001b[0m\u001b[0;34m\"VAL\"\u001b[0m\u001b[0;34m,\u001b[0m \u001b[0mtrue_pts\u001b[0m\u001b[0;34m)\u001b[0m\u001b[0;34m\u001b[0m\u001b[0;34m\u001b[0m\u001b[0m\n",
            "\u001b[0;32m/usr/local/lib/python3.6/dist-packages/torch/utils/data/dataloader.py\u001b[0m in \u001b[0;36m__next__\u001b[0;34m(self)\u001b[0m\n\u001b[1;32m    613\u001b[0m         \u001b[0;32mif\u001b[0m \u001b[0mself\u001b[0m\u001b[0;34m.\u001b[0m\u001b[0mnum_workers\u001b[0m \u001b[0;34m==\u001b[0m \u001b[0;36m0\u001b[0m\u001b[0;34m:\u001b[0m  \u001b[0;31m# same-process loading\u001b[0m\u001b[0;34m\u001b[0m\u001b[0;34m\u001b[0m\u001b[0m\n\u001b[1;32m    614\u001b[0m             \u001b[0mindices\u001b[0m \u001b[0;34m=\u001b[0m \u001b[0mnext\u001b[0m\u001b[0;34m(\u001b[0m\u001b[0mself\u001b[0m\u001b[0;34m.\u001b[0m\u001b[0msample_iter\u001b[0m\u001b[0;34m)\u001b[0m  \u001b[0;31m# may raise StopIteration\u001b[0m\u001b[0;34m\u001b[0m\u001b[0;34m\u001b[0m\u001b[0m\n\u001b[0;32m--> 615\u001b[0;31m             \u001b[0mbatch\u001b[0m \u001b[0;34m=\u001b[0m \u001b[0mself\u001b[0m\u001b[0;34m.\u001b[0m\u001b[0mcollate_fn\u001b[0m\u001b[0;34m(\u001b[0m\u001b[0;34m[\u001b[0m\u001b[0mself\u001b[0m\u001b[0;34m.\u001b[0m\u001b[0mdataset\u001b[0m\u001b[0;34m[\u001b[0m\u001b[0mi\u001b[0m\u001b[0;34m]\u001b[0m \u001b[0;32mfor\u001b[0m \u001b[0mi\u001b[0m \u001b[0;32min\u001b[0m \u001b[0mindices\u001b[0m\u001b[0;34m]\u001b[0m\u001b[0;34m)\u001b[0m\u001b[0;34m\u001b[0m\u001b[0;34m\u001b[0m\u001b[0m\n\u001b[0m\u001b[1;32m    616\u001b[0m             \u001b[0;32mif\u001b[0m \u001b[0mself\u001b[0m\u001b[0;34m.\u001b[0m\u001b[0mpin_memory\u001b[0m\u001b[0;34m:\u001b[0m\u001b[0;34m\u001b[0m\u001b[0;34m\u001b[0m\u001b[0m\n\u001b[1;32m    617\u001b[0m                 \u001b[0mbatch\u001b[0m \u001b[0;34m=\u001b[0m \u001b[0mpin_memory_batch\u001b[0m\u001b[0;34m(\u001b[0m\u001b[0mbatch\u001b[0m\u001b[0;34m)\u001b[0m\u001b[0;34m\u001b[0m\u001b[0;34m\u001b[0m\u001b[0m\n",
            "\u001b[0;32m/usr/local/lib/python3.6/dist-packages/torch/utils/data/dataloader.py\u001b[0m in \u001b[0;36m<listcomp>\u001b[0;34m(.0)\u001b[0m\n\u001b[1;32m    613\u001b[0m         \u001b[0;32mif\u001b[0m \u001b[0mself\u001b[0m\u001b[0;34m.\u001b[0m\u001b[0mnum_workers\u001b[0m \u001b[0;34m==\u001b[0m \u001b[0;36m0\u001b[0m\u001b[0;34m:\u001b[0m  \u001b[0;31m# same-process loading\u001b[0m\u001b[0;34m\u001b[0m\u001b[0;34m\u001b[0m\u001b[0m\n\u001b[1;32m    614\u001b[0m             \u001b[0mindices\u001b[0m \u001b[0;34m=\u001b[0m \u001b[0mnext\u001b[0m\u001b[0;34m(\u001b[0m\u001b[0mself\u001b[0m\u001b[0;34m.\u001b[0m\u001b[0msample_iter\u001b[0m\u001b[0;34m)\u001b[0m  \u001b[0;31m# may raise StopIteration\u001b[0m\u001b[0;34m\u001b[0m\u001b[0;34m\u001b[0m\u001b[0m\n\u001b[0;32m--> 615\u001b[0;31m             \u001b[0mbatch\u001b[0m \u001b[0;34m=\u001b[0m \u001b[0mself\u001b[0m\u001b[0;34m.\u001b[0m\u001b[0mcollate_fn\u001b[0m\u001b[0;34m(\u001b[0m\u001b[0;34m[\u001b[0m\u001b[0mself\u001b[0m\u001b[0;34m.\u001b[0m\u001b[0mdataset\u001b[0m\u001b[0;34m[\u001b[0m\u001b[0mi\u001b[0m\u001b[0;34m]\u001b[0m \u001b[0;32mfor\u001b[0m \u001b[0mi\u001b[0m \u001b[0;32min\u001b[0m \u001b[0mindices\u001b[0m\u001b[0;34m]\u001b[0m\u001b[0;34m)\u001b[0m\u001b[0;34m\u001b[0m\u001b[0;34m\u001b[0m\u001b[0m\n\u001b[0m\u001b[1;32m    616\u001b[0m             \u001b[0;32mif\u001b[0m \u001b[0mself\u001b[0m\u001b[0;34m.\u001b[0m\u001b[0mpin_memory\u001b[0m\u001b[0;34m:\u001b[0m\u001b[0;34m\u001b[0m\u001b[0;34m\u001b[0m\u001b[0m\n\u001b[1;32m    617\u001b[0m                 \u001b[0mbatch\u001b[0m \u001b[0;34m=\u001b[0m \u001b[0mpin_memory_batch\u001b[0m\u001b[0;34m(\u001b[0m\u001b[0mbatch\u001b[0m\u001b[0;34m)\u001b[0m\u001b[0;34m\u001b[0m\u001b[0;34m\u001b[0m\u001b[0m\n",
            "\u001b[0;32m<ipython-input-5-0c9cb3239568>\u001b[0m in \u001b[0;36m__getitem__\u001b[0;34m(self, i)\u001b[0m\n\u001b[1;32m     56\u001b[0m         \u001b[0maka\u001b[0m \u001b[0mpage\u001b[0m\u001b[0;34m,\u001b[0m \u001b[0mscore\u001b[0m\u001b[0;34m,\u001b[0m \u001b[0mmax_score\u001b[0m\u001b[0;34m\u001b[0m\u001b[0;34m\u001b[0m\u001b[0m\n\u001b[1;32m     57\u001b[0m         \"\"\"\n\u001b[0;32m---> 58\u001b[0;31m         \u001b[0mimg\u001b[0m \u001b[0;34m=\u001b[0m \u001b[0mself\u001b[0m\u001b[0;34m.\u001b[0m\u001b[0mimage_folder\u001b[0m\u001b[0;34m[\u001b[0m\u001b[0mi\u001b[0m\u001b[0;34m]\u001b[0m\u001b[0;34m\u001b[0m\u001b[0;34m\u001b[0m\u001b[0m\n\u001b[0m\u001b[1;32m     59\u001b[0m \u001b[0;34m\u001b[0m\u001b[0m\n\u001b[1;32m     60\u001b[0m         \u001b[0;31m# We only want the top bit\u001b[0m\u001b[0;34m\u001b[0m\u001b[0;34m\u001b[0m\u001b[0;34m\u001b[0m\u001b[0m\n",
            "\u001b[0;32m/usr/local/lib/python3.6/dist-packages/torchvision/datasets/folder.py\u001b[0m in \u001b[0;36m__getitem__\u001b[0;34m(self, index)\u001b[0m\n\u001b[1;32m     99\u001b[0m         \"\"\"\n\u001b[1;32m    100\u001b[0m         \u001b[0mpath\u001b[0m\u001b[0;34m,\u001b[0m \u001b[0mtarget\u001b[0m \u001b[0;34m=\u001b[0m \u001b[0mself\u001b[0m\u001b[0;34m.\u001b[0m\u001b[0msamples\u001b[0m\u001b[0;34m[\u001b[0m\u001b[0mindex\u001b[0m\u001b[0;34m]\u001b[0m\u001b[0;34m\u001b[0m\u001b[0;34m\u001b[0m\u001b[0m\n\u001b[0;32m--> 101\u001b[0;31m         \u001b[0msample\u001b[0m \u001b[0;34m=\u001b[0m \u001b[0mself\u001b[0m\u001b[0;34m.\u001b[0m\u001b[0mloader\u001b[0m\u001b[0;34m(\u001b[0m\u001b[0mpath\u001b[0m\u001b[0;34m)\u001b[0m\u001b[0;34m\u001b[0m\u001b[0;34m\u001b[0m\u001b[0m\n\u001b[0m\u001b[1;32m    102\u001b[0m         \u001b[0;32mif\u001b[0m \u001b[0mself\u001b[0m\u001b[0;34m.\u001b[0m\u001b[0mtransform\u001b[0m \u001b[0;32mis\u001b[0m \u001b[0;32mnot\u001b[0m \u001b[0;32mNone\u001b[0m\u001b[0;34m:\u001b[0m\u001b[0;34m\u001b[0m\u001b[0;34m\u001b[0m\u001b[0m\n\u001b[1;32m    103\u001b[0m             \u001b[0msample\u001b[0m \u001b[0;34m=\u001b[0m \u001b[0mself\u001b[0m\u001b[0;34m.\u001b[0m\u001b[0mtransform\u001b[0m\u001b[0;34m(\u001b[0m\u001b[0msample\u001b[0m\u001b[0;34m)\u001b[0m\u001b[0;34m\u001b[0m\u001b[0;34m\u001b[0m\u001b[0m\n",
            "\u001b[0;32m/usr/local/lib/python3.6/dist-packages/torchvision/datasets/folder.py\u001b[0m in \u001b[0;36mdefault_loader\u001b[0;34m(path)\u001b[0m\n\u001b[1;32m    145\u001b[0m         \u001b[0;32mreturn\u001b[0m \u001b[0maccimage_loader\u001b[0m\u001b[0;34m(\u001b[0m\u001b[0mpath\u001b[0m\u001b[0;34m)\u001b[0m\u001b[0;34m\u001b[0m\u001b[0;34m\u001b[0m\u001b[0m\n\u001b[1;32m    146\u001b[0m     \u001b[0;32melse\u001b[0m\u001b[0;34m:\u001b[0m\u001b[0;34m\u001b[0m\u001b[0;34m\u001b[0m\u001b[0m\n\u001b[0;32m--> 147\u001b[0;31m         \u001b[0;32mreturn\u001b[0m \u001b[0mpil_loader\u001b[0m\u001b[0;34m(\u001b[0m\u001b[0mpath\u001b[0m\u001b[0;34m)\u001b[0m\u001b[0;34m\u001b[0m\u001b[0;34m\u001b[0m\u001b[0m\n\u001b[0m\u001b[1;32m    148\u001b[0m \u001b[0;34m\u001b[0m\u001b[0m\n\u001b[1;32m    149\u001b[0m \u001b[0;34m\u001b[0m\u001b[0m\n",
            "\u001b[0;32m/usr/local/lib/python3.6/dist-packages/torchvision/datasets/folder.py\u001b[0m in \u001b[0;36mpil_loader\u001b[0;34m(path)\u001b[0m\n\u001b[1;32m    127\u001b[0m     \u001b[0;31m# open path as file to avoid ResourceWarning (https://github.com/python-pillow/Pillow/issues/835)\u001b[0m\u001b[0;34m\u001b[0m\u001b[0;34m\u001b[0m\u001b[0;34m\u001b[0m\u001b[0m\n\u001b[1;32m    128\u001b[0m     \u001b[0;32mwith\u001b[0m \u001b[0mopen\u001b[0m\u001b[0;34m(\u001b[0m\u001b[0mpath\u001b[0m\u001b[0;34m,\u001b[0m \u001b[0;34m'rb'\u001b[0m\u001b[0;34m)\u001b[0m \u001b[0;32mas\u001b[0m \u001b[0mf\u001b[0m\u001b[0;34m:\u001b[0m\u001b[0;34m\u001b[0m\u001b[0;34m\u001b[0m\u001b[0m\n\u001b[0;32m--> 129\u001b[0;31m         \u001b[0mimg\u001b[0m \u001b[0;34m=\u001b[0m \u001b[0mImage\u001b[0m\u001b[0;34m.\u001b[0m\u001b[0mopen\u001b[0m\u001b[0;34m(\u001b[0m\u001b[0mf\u001b[0m\u001b[0;34m)\u001b[0m\u001b[0;34m\u001b[0m\u001b[0;34m\u001b[0m\u001b[0m\n\u001b[0m\u001b[1;32m    130\u001b[0m         \u001b[0;32mreturn\u001b[0m \u001b[0mimg\u001b[0m\u001b[0;34m.\u001b[0m\u001b[0mconvert\u001b[0m\u001b[0;34m(\u001b[0m\u001b[0;34m'RGB'\u001b[0m\u001b[0;34m)\u001b[0m\u001b[0;34m\u001b[0m\u001b[0;34m\u001b[0m\u001b[0m\n\u001b[1;32m    131\u001b[0m \u001b[0;34m\u001b[0m\u001b[0m\n",
            "\u001b[0;32m/usr/local/lib/python3.6/dist-packages/PIL/Image.py\u001b[0m in \u001b[0;36mopen\u001b[0;34m(fp, mode)\u001b[0m\n\u001b[1;32m   2417\u001b[0m         \u001b[0mexclusive_fp\u001b[0m \u001b[0;34m=\u001b[0m \u001b[0;32mTrue\u001b[0m\u001b[0;34m\u001b[0m\u001b[0;34m\u001b[0m\u001b[0m\n\u001b[1;32m   2418\u001b[0m \u001b[0;34m\u001b[0m\u001b[0m\n\u001b[0;32m-> 2419\u001b[0;31m     \u001b[0mprefix\u001b[0m \u001b[0;34m=\u001b[0m \u001b[0mfp\u001b[0m\u001b[0;34m.\u001b[0m\u001b[0mread\u001b[0m\u001b[0;34m(\u001b[0m\u001b[0;36m16\u001b[0m\u001b[0;34m)\u001b[0m\u001b[0;34m\u001b[0m\u001b[0;34m\u001b[0m\u001b[0m\n\u001b[0m\u001b[1;32m   2420\u001b[0m \u001b[0;34m\u001b[0m\u001b[0m\n\u001b[1;32m   2421\u001b[0m     \u001b[0mpreinit\u001b[0m\u001b[0;34m(\u001b[0m\u001b[0;34m)\u001b[0m\u001b[0;34m\u001b[0m\u001b[0;34m\u001b[0m\u001b[0m\n",
            "\u001b[0;31mKeyboardInterrupt\u001b[0m: "
          ]
        }
      ]
    },
    {
      "metadata": {
        "id": "9gm7a34q1ZHB",
        "colab_type": "code",
        "outputId": "8f6f49ca-d2ff-4167-f26e-19fca94b33d1",
        "colab": {
          "base_uri": "https://localhost:8080/",
          "height": 2013
        }
      },
      "cell_type": "code",
      "source": [
        "scope(H=64, W=128, cutoff_length=None, batch_size=8, num_epochs=1, \n",
        "      val_split=0.025, model_type='resnet-18')"
      ],
      "execution_count": 0,
      "outputs": [
        {
          "output_type": "stream",
          "text": [
            "len(dataset): 36766\n",
            "919 images in validation dataset\n"
          ],
          "name": "stdout"
        },
        {
          "output_type": "stream",
          "text": [
            "Val 51/115: loss 2.387, acc. 0.000:  45%|████▌     | 52/115 [02:57<03:05,  2.94s/it]"
          ],
          "name": "stderr"
        },
        {
          "output_type": "error",
          "ename": "KeyboardInterrupt",
          "evalue": "ignored",
          "traceback": [
            "\u001b[0;31m---------------------------------------------------------------------------\u001b[0m",
            "\u001b[0;31mKeyboardInterrupt\u001b[0m                         Traceback (most recent call last)",
            "\u001b[0;32m<ipython-input-10-9f5b691a41a6>\u001b[0m in \u001b[0;36m<module>\u001b[0;34m()\u001b[0m\n\u001b[1;32m      1\u001b[0m scope(H=64, W=128, cutoff_length=None, batch_size=8, num_epochs=1, \n\u001b[0;32m----> 2\u001b[0;31m       val_split=0.025, model_type='resnet-18')\n\u001b[0m",
            "\u001b[0;32m<ipython-input-9-76cd9a034432>\u001b[0m in \u001b[0;36mscope\u001b[0;34m(H, W, cutoff_length, batch_size, num_epochs, val_split, model_type, learning_rate)\u001b[0m\n\u001b[1;32m     55\u001b[0m                 \u001b[0mval_acc\u001b[0m \u001b[0;34m=\u001b[0m \u001b[0;36m0\u001b[0m\u001b[0;34m\u001b[0m\u001b[0;34m\u001b[0m\u001b[0m\n\u001b[1;32m     56\u001b[0m                 \u001b[0mloop2\u001b[0m \u001b[0;34m=\u001b[0m \u001b[0mtqdm\u001b[0m\u001b[0;34m(\u001b[0m\u001b[0mtotal\u001b[0m\u001b[0;34m=\u001b[0m\u001b[0mlen\u001b[0m\u001b[0;34m(\u001b[0m\u001b[0mval_loader\u001b[0m\u001b[0;34m)\u001b[0m\u001b[0;34m,\u001b[0m \u001b[0mposition\u001b[0m\u001b[0;34m=\u001b[0m\u001b[0;36m0\u001b[0m\u001b[0;34m,\u001b[0m \u001b[0mleave\u001b[0m\u001b[0;34m=\u001b[0m\u001b[0;32mTrue\u001b[0m\u001b[0;34m)\u001b[0m\u001b[0;34m\u001b[0m\u001b[0;34m\u001b[0m\u001b[0m\n\u001b[0;32m---> 57\u001b[0;31m                 \u001b[0;32mfor\u001b[0m \u001b[0mi\u001b[0m\u001b[0;34m,\u001b[0m \u001b[0;34m(\u001b[0m\u001b[0mpgs\u001b[0m\u001b[0;34m,\u001b[0m \u001b[0mtrue_s\u001b[0m\u001b[0;34m,\u001b[0m \u001b[0mtrue_pts\u001b[0m\u001b[0;34m)\u001b[0m \u001b[0;32min\u001b[0m \u001b[0menumerate\u001b[0m\u001b[0;34m(\u001b[0m\u001b[0mval_loader\u001b[0m\u001b[0;34m)\u001b[0m\u001b[0;34m:\u001b[0m\u001b[0;34m\u001b[0m\u001b[0;34m\u001b[0m\u001b[0m\n\u001b[0m\u001b[1;32m     58\u001b[0m \u001b[0;34m\u001b[0m\u001b[0m\n\u001b[1;32m     59\u001b[0m                     \u001b[0mx\u001b[0m\u001b[0;34m,\u001b[0m \u001b[0my_truth\u001b[0m \u001b[0;34m=\u001b[0m \u001b[0mpgs\u001b[0m\u001b[0;34m.\u001b[0m\u001b[0mcuda\u001b[0m\u001b[0;34m(\u001b[0m\u001b[0;34m)\u001b[0m\u001b[0;34m,\u001b[0m \u001b[0mtrue_pts\u001b[0m\u001b[0;34m.\u001b[0m\u001b[0mcuda\u001b[0m\u001b[0;34m(\u001b[0m\u001b[0;34m)\u001b[0m\u001b[0;34m.\u001b[0m\u001b[0mlong\u001b[0m\u001b[0;34m(\u001b[0m\u001b[0;34m)\u001b[0m\u001b[0;34m\u001b[0m\u001b[0;34m\u001b[0m\u001b[0m\n",
            "\u001b[0;32m/usr/local/lib/python3.6/dist-packages/torch/utils/data/dataloader.py\u001b[0m in \u001b[0;36m__next__\u001b[0;34m(self)\u001b[0m\n\u001b[1;32m    613\u001b[0m         \u001b[0;32mif\u001b[0m \u001b[0mself\u001b[0m\u001b[0;34m.\u001b[0m\u001b[0mnum_workers\u001b[0m \u001b[0;34m==\u001b[0m \u001b[0;36m0\u001b[0m\u001b[0;34m:\u001b[0m  \u001b[0;31m# same-process loading\u001b[0m\u001b[0;34m\u001b[0m\u001b[0;34m\u001b[0m\u001b[0m\n\u001b[1;32m    614\u001b[0m             \u001b[0mindices\u001b[0m \u001b[0;34m=\u001b[0m \u001b[0mnext\u001b[0m\u001b[0;34m(\u001b[0m\u001b[0mself\u001b[0m\u001b[0;34m.\u001b[0m\u001b[0msample_iter\u001b[0m\u001b[0;34m)\u001b[0m  \u001b[0;31m# may raise StopIteration\u001b[0m\u001b[0;34m\u001b[0m\u001b[0;34m\u001b[0m\u001b[0m\n\u001b[0;32m--> 615\u001b[0;31m             \u001b[0mbatch\u001b[0m \u001b[0;34m=\u001b[0m \u001b[0mself\u001b[0m\u001b[0;34m.\u001b[0m\u001b[0mcollate_fn\u001b[0m\u001b[0;34m(\u001b[0m\u001b[0;34m[\u001b[0m\u001b[0mself\u001b[0m\u001b[0;34m.\u001b[0m\u001b[0mdataset\u001b[0m\u001b[0;34m[\u001b[0m\u001b[0mi\u001b[0m\u001b[0;34m]\u001b[0m \u001b[0;32mfor\u001b[0m \u001b[0mi\u001b[0m \u001b[0;32min\u001b[0m \u001b[0mindices\u001b[0m\u001b[0;34m]\u001b[0m\u001b[0;34m)\u001b[0m\u001b[0;34m\u001b[0m\u001b[0;34m\u001b[0m\u001b[0m\n\u001b[0m\u001b[1;32m    616\u001b[0m             \u001b[0;32mif\u001b[0m \u001b[0mself\u001b[0m\u001b[0;34m.\u001b[0m\u001b[0mpin_memory\u001b[0m\u001b[0;34m:\u001b[0m\u001b[0;34m\u001b[0m\u001b[0;34m\u001b[0m\u001b[0m\n\u001b[1;32m    617\u001b[0m                 \u001b[0mbatch\u001b[0m \u001b[0;34m=\u001b[0m \u001b[0mpin_memory_batch\u001b[0m\u001b[0;34m(\u001b[0m\u001b[0mbatch\u001b[0m\u001b[0;34m)\u001b[0m\u001b[0;34m\u001b[0m\u001b[0;34m\u001b[0m\u001b[0m\n",
            "\u001b[0;32m/usr/local/lib/python3.6/dist-packages/torch/utils/data/dataloader.py\u001b[0m in \u001b[0;36m<listcomp>\u001b[0;34m(.0)\u001b[0m\n\u001b[1;32m    613\u001b[0m         \u001b[0;32mif\u001b[0m \u001b[0mself\u001b[0m\u001b[0;34m.\u001b[0m\u001b[0mnum_workers\u001b[0m \u001b[0;34m==\u001b[0m \u001b[0;36m0\u001b[0m\u001b[0;34m:\u001b[0m  \u001b[0;31m# same-process loading\u001b[0m\u001b[0;34m\u001b[0m\u001b[0;34m\u001b[0m\u001b[0m\n\u001b[1;32m    614\u001b[0m             \u001b[0mindices\u001b[0m \u001b[0;34m=\u001b[0m \u001b[0mnext\u001b[0m\u001b[0;34m(\u001b[0m\u001b[0mself\u001b[0m\u001b[0;34m.\u001b[0m\u001b[0msample_iter\u001b[0m\u001b[0;34m)\u001b[0m  \u001b[0;31m# may raise StopIteration\u001b[0m\u001b[0;34m\u001b[0m\u001b[0;34m\u001b[0m\u001b[0m\n\u001b[0;32m--> 615\u001b[0;31m             \u001b[0mbatch\u001b[0m \u001b[0;34m=\u001b[0m \u001b[0mself\u001b[0m\u001b[0;34m.\u001b[0m\u001b[0mcollate_fn\u001b[0m\u001b[0;34m(\u001b[0m\u001b[0;34m[\u001b[0m\u001b[0mself\u001b[0m\u001b[0;34m.\u001b[0m\u001b[0mdataset\u001b[0m\u001b[0;34m[\u001b[0m\u001b[0mi\u001b[0m\u001b[0;34m]\u001b[0m \u001b[0;32mfor\u001b[0m \u001b[0mi\u001b[0m \u001b[0;32min\u001b[0m \u001b[0mindices\u001b[0m\u001b[0;34m]\u001b[0m\u001b[0;34m)\u001b[0m\u001b[0;34m\u001b[0m\u001b[0;34m\u001b[0m\u001b[0m\n\u001b[0m\u001b[1;32m    616\u001b[0m             \u001b[0;32mif\u001b[0m \u001b[0mself\u001b[0m\u001b[0;34m.\u001b[0m\u001b[0mpin_memory\u001b[0m\u001b[0;34m:\u001b[0m\u001b[0;34m\u001b[0m\u001b[0;34m\u001b[0m\u001b[0m\n\u001b[1;32m    617\u001b[0m                 \u001b[0mbatch\u001b[0m \u001b[0;34m=\u001b[0m \u001b[0mpin_memory_batch\u001b[0m\u001b[0;34m(\u001b[0m\u001b[0mbatch\u001b[0m\u001b[0;34m)\u001b[0m\u001b[0;34m\u001b[0m\u001b[0;34m\u001b[0m\u001b[0m\n",
            "\u001b[0;32m/usr/local/lib/python3.6/dist-packages/torch/utils/data/dataset.py\u001b[0m in \u001b[0;36m__getitem__\u001b[0;34m(self, idx)\u001b[0m\n\u001b[1;32m    101\u001b[0m \u001b[0;34m\u001b[0m\u001b[0m\n\u001b[1;32m    102\u001b[0m     \u001b[0;32mdef\u001b[0m \u001b[0m__getitem__\u001b[0m\u001b[0;34m(\u001b[0m\u001b[0mself\u001b[0m\u001b[0;34m,\u001b[0m \u001b[0midx\u001b[0m\u001b[0;34m)\u001b[0m\u001b[0;34m:\u001b[0m\u001b[0;34m\u001b[0m\u001b[0;34m\u001b[0m\u001b[0m\n\u001b[0;32m--> 103\u001b[0;31m         \u001b[0;32mreturn\u001b[0m \u001b[0mself\u001b[0m\u001b[0;34m.\u001b[0m\u001b[0mdataset\u001b[0m\u001b[0;34m[\u001b[0m\u001b[0mself\u001b[0m\u001b[0;34m.\u001b[0m\u001b[0mindices\u001b[0m\u001b[0;34m[\u001b[0m\u001b[0midx\u001b[0m\u001b[0;34m]\u001b[0m\u001b[0;34m]\u001b[0m\u001b[0;34m\u001b[0m\u001b[0;34m\u001b[0m\u001b[0m\n\u001b[0m\u001b[1;32m    104\u001b[0m \u001b[0;34m\u001b[0m\u001b[0m\n\u001b[1;32m    105\u001b[0m     \u001b[0;32mdef\u001b[0m \u001b[0m__len__\u001b[0m\u001b[0;34m(\u001b[0m\u001b[0mself\u001b[0m\u001b[0;34m)\u001b[0m\u001b[0;34m:\u001b[0m\u001b[0;34m\u001b[0m\u001b[0;34m\u001b[0m\u001b[0m\n",
            "\u001b[0;32m<ipython-input-5-0c9cb3239568>\u001b[0m in \u001b[0;36m__getitem__\u001b[0;34m(self, i)\u001b[0m\n\u001b[1;32m     56\u001b[0m         \u001b[0maka\u001b[0m \u001b[0mpage\u001b[0m\u001b[0;34m,\u001b[0m \u001b[0mscore\u001b[0m\u001b[0;34m,\u001b[0m \u001b[0mmax_score\u001b[0m\u001b[0;34m\u001b[0m\u001b[0;34m\u001b[0m\u001b[0m\n\u001b[1;32m     57\u001b[0m         \"\"\"\n\u001b[0;32m---> 58\u001b[0;31m         \u001b[0mimg\u001b[0m \u001b[0;34m=\u001b[0m \u001b[0mself\u001b[0m\u001b[0;34m.\u001b[0m\u001b[0mimage_folder\u001b[0m\u001b[0;34m[\u001b[0m\u001b[0mi\u001b[0m\u001b[0;34m]\u001b[0m\u001b[0;34m\u001b[0m\u001b[0;34m\u001b[0m\u001b[0m\n\u001b[0m\u001b[1;32m     59\u001b[0m \u001b[0;34m\u001b[0m\u001b[0m\n\u001b[1;32m     60\u001b[0m         \u001b[0;31m# We only want the top bit\u001b[0m\u001b[0;34m\u001b[0m\u001b[0;34m\u001b[0m\u001b[0;34m\u001b[0m\u001b[0m\n",
            "\u001b[0;32m/usr/local/lib/python3.6/dist-packages/torchvision/datasets/folder.py\u001b[0m in \u001b[0;36m__getitem__\u001b[0;34m(self, index)\u001b[0m\n\u001b[1;32m     99\u001b[0m         \"\"\"\n\u001b[1;32m    100\u001b[0m         \u001b[0mpath\u001b[0m\u001b[0;34m,\u001b[0m \u001b[0mtarget\u001b[0m \u001b[0;34m=\u001b[0m \u001b[0mself\u001b[0m\u001b[0;34m.\u001b[0m\u001b[0msamples\u001b[0m\u001b[0;34m[\u001b[0m\u001b[0mindex\u001b[0m\u001b[0;34m]\u001b[0m\u001b[0;34m\u001b[0m\u001b[0;34m\u001b[0m\u001b[0m\n\u001b[0;32m--> 101\u001b[0;31m         \u001b[0msample\u001b[0m \u001b[0;34m=\u001b[0m \u001b[0mself\u001b[0m\u001b[0;34m.\u001b[0m\u001b[0mloader\u001b[0m\u001b[0;34m(\u001b[0m\u001b[0mpath\u001b[0m\u001b[0;34m)\u001b[0m\u001b[0;34m\u001b[0m\u001b[0;34m\u001b[0m\u001b[0m\n\u001b[0m\u001b[1;32m    102\u001b[0m         \u001b[0;32mif\u001b[0m \u001b[0mself\u001b[0m\u001b[0;34m.\u001b[0m\u001b[0mtransform\u001b[0m \u001b[0;32mis\u001b[0m \u001b[0;32mnot\u001b[0m \u001b[0;32mNone\u001b[0m\u001b[0;34m:\u001b[0m\u001b[0;34m\u001b[0m\u001b[0;34m\u001b[0m\u001b[0m\n\u001b[1;32m    103\u001b[0m             \u001b[0msample\u001b[0m \u001b[0;34m=\u001b[0m \u001b[0mself\u001b[0m\u001b[0;34m.\u001b[0m\u001b[0mtransform\u001b[0m\u001b[0;34m(\u001b[0m\u001b[0msample\u001b[0m\u001b[0;34m)\u001b[0m\u001b[0;34m\u001b[0m\u001b[0;34m\u001b[0m\u001b[0m\n",
            "\u001b[0;32m/usr/local/lib/python3.6/dist-packages/torchvision/datasets/folder.py\u001b[0m in \u001b[0;36mdefault_loader\u001b[0;34m(path)\u001b[0m\n\u001b[1;32m    145\u001b[0m         \u001b[0;32mreturn\u001b[0m \u001b[0maccimage_loader\u001b[0m\u001b[0;34m(\u001b[0m\u001b[0mpath\u001b[0m\u001b[0;34m)\u001b[0m\u001b[0;34m\u001b[0m\u001b[0;34m\u001b[0m\u001b[0m\n\u001b[1;32m    146\u001b[0m     \u001b[0;32melse\u001b[0m\u001b[0;34m:\u001b[0m\u001b[0;34m\u001b[0m\u001b[0;34m\u001b[0m\u001b[0m\n\u001b[0;32m--> 147\u001b[0;31m         \u001b[0;32mreturn\u001b[0m \u001b[0mpil_loader\u001b[0m\u001b[0;34m(\u001b[0m\u001b[0mpath\u001b[0m\u001b[0;34m)\u001b[0m\u001b[0;34m\u001b[0m\u001b[0;34m\u001b[0m\u001b[0m\n\u001b[0m\u001b[1;32m    148\u001b[0m \u001b[0;34m\u001b[0m\u001b[0m\n\u001b[1;32m    149\u001b[0m \u001b[0;34m\u001b[0m\u001b[0m\n",
            "\u001b[0;32m/usr/local/lib/python3.6/dist-packages/torchvision/datasets/folder.py\u001b[0m in \u001b[0;36mpil_loader\u001b[0;34m(path)\u001b[0m\n\u001b[1;32m    127\u001b[0m     \u001b[0;31m# open path as file to avoid ResourceWarning (https://github.com/python-pillow/Pillow/issues/835)\u001b[0m\u001b[0;34m\u001b[0m\u001b[0;34m\u001b[0m\u001b[0;34m\u001b[0m\u001b[0m\n\u001b[1;32m    128\u001b[0m     \u001b[0;32mwith\u001b[0m \u001b[0mopen\u001b[0m\u001b[0;34m(\u001b[0m\u001b[0mpath\u001b[0m\u001b[0;34m,\u001b[0m \u001b[0;34m'rb'\u001b[0m\u001b[0;34m)\u001b[0m \u001b[0;32mas\u001b[0m \u001b[0mf\u001b[0m\u001b[0;34m:\u001b[0m\u001b[0;34m\u001b[0m\u001b[0;34m\u001b[0m\u001b[0m\n\u001b[0;32m--> 129\u001b[0;31m         \u001b[0mimg\u001b[0m \u001b[0;34m=\u001b[0m \u001b[0mImage\u001b[0m\u001b[0;34m.\u001b[0m\u001b[0mopen\u001b[0m\u001b[0;34m(\u001b[0m\u001b[0mf\u001b[0m\u001b[0;34m)\u001b[0m\u001b[0;34m\u001b[0m\u001b[0;34m\u001b[0m\u001b[0m\n\u001b[0m\u001b[1;32m    130\u001b[0m         \u001b[0;32mreturn\u001b[0m \u001b[0mimg\u001b[0m\u001b[0;34m.\u001b[0m\u001b[0mconvert\u001b[0m\u001b[0;34m(\u001b[0m\u001b[0;34m'RGB'\u001b[0m\u001b[0;34m)\u001b[0m\u001b[0;34m\u001b[0m\u001b[0;34m\u001b[0m\u001b[0m\n\u001b[1;32m    131\u001b[0m \u001b[0;34m\u001b[0m\u001b[0m\n",
            "\u001b[0;32m/usr/local/lib/python3.6/dist-packages/PIL/Image.py\u001b[0m in \u001b[0;36mopen\u001b[0;34m(fp, mode)\u001b[0m\n\u001b[1;32m   2437\u001b[0m         \u001b[0;32mreturn\u001b[0m \u001b[0;32mNone\u001b[0m\u001b[0;34m\u001b[0m\u001b[0;34m\u001b[0m\u001b[0m\n\u001b[1;32m   2438\u001b[0m \u001b[0;34m\u001b[0m\u001b[0m\n\u001b[0;32m-> 2439\u001b[0;31m     \u001b[0mim\u001b[0m \u001b[0;34m=\u001b[0m \u001b[0m_open_core\u001b[0m\u001b[0;34m(\u001b[0m\u001b[0mfp\u001b[0m\u001b[0;34m,\u001b[0m \u001b[0mfilename\u001b[0m\u001b[0;34m,\u001b[0m \u001b[0mprefix\u001b[0m\u001b[0;34m)\u001b[0m\u001b[0;34m\u001b[0m\u001b[0;34m\u001b[0m\u001b[0m\n\u001b[0m\u001b[1;32m   2440\u001b[0m \u001b[0;34m\u001b[0m\u001b[0m\n\u001b[1;32m   2441\u001b[0m     \u001b[0;32mif\u001b[0m \u001b[0mim\u001b[0m \u001b[0;32mis\u001b[0m \u001b[0;32mNone\u001b[0m\u001b[0;34m:\u001b[0m\u001b[0;34m\u001b[0m\u001b[0;34m\u001b[0m\u001b[0m\n",
            "\u001b[0;32m/usr/local/lib/python3.6/dist-packages/PIL/Image.py\u001b[0m in \u001b[0;36m_open_core\u001b[0;34m(fp, filename, prefix)\u001b[0m\n\u001b[1;32m   2427\u001b[0m                 \u001b[0;32mif\u001b[0m \u001b[0;32mnot\u001b[0m \u001b[0maccept\u001b[0m \u001b[0;32mor\u001b[0m \u001b[0maccept\u001b[0m\u001b[0;34m(\u001b[0m\u001b[0mprefix\u001b[0m\u001b[0;34m)\u001b[0m\u001b[0;34m:\u001b[0m\u001b[0;34m\u001b[0m\u001b[0;34m\u001b[0m\u001b[0m\n\u001b[1;32m   2428\u001b[0m                     \u001b[0mfp\u001b[0m\u001b[0;34m.\u001b[0m\u001b[0mseek\u001b[0m\u001b[0;34m(\u001b[0m\u001b[0;36m0\u001b[0m\u001b[0;34m)\u001b[0m\u001b[0;34m\u001b[0m\u001b[0;34m\u001b[0m\u001b[0m\n\u001b[0;32m-> 2429\u001b[0;31m                     \u001b[0mim\u001b[0m \u001b[0;34m=\u001b[0m \u001b[0mfactory\u001b[0m\u001b[0;34m(\u001b[0m\u001b[0mfp\u001b[0m\u001b[0;34m,\u001b[0m \u001b[0mfilename\u001b[0m\u001b[0;34m)\u001b[0m\u001b[0;34m\u001b[0m\u001b[0;34m\u001b[0m\u001b[0m\n\u001b[0m\u001b[1;32m   2430\u001b[0m                     \u001b[0m_decompression_bomb_check\u001b[0m\u001b[0;34m(\u001b[0m\u001b[0mim\u001b[0m\u001b[0;34m.\u001b[0m\u001b[0msize\u001b[0m\u001b[0;34m)\u001b[0m\u001b[0;34m\u001b[0m\u001b[0;34m\u001b[0m\u001b[0m\n\u001b[1;32m   2431\u001b[0m                     \u001b[0;32mreturn\u001b[0m \u001b[0mim\u001b[0m\u001b[0;34m\u001b[0m\u001b[0;34m\u001b[0m\u001b[0m\n",
            "\u001b[0;32m/usr/local/lib/python3.6/dist-packages/PIL/ImageFile.py\u001b[0m in \u001b[0;36m__init__\u001b[0;34m(self, fp, filename)\u001b[0m\n\u001b[1;32m     98\u001b[0m \u001b[0;34m\u001b[0m\u001b[0m\n\u001b[1;32m     99\u001b[0m         \u001b[0;32mtry\u001b[0m\u001b[0;34m:\u001b[0m\u001b[0;34m\u001b[0m\u001b[0;34m\u001b[0m\u001b[0m\n\u001b[0;32m--> 100\u001b[0;31m             \u001b[0mself\u001b[0m\u001b[0;34m.\u001b[0m\u001b[0m_open\u001b[0m\u001b[0;34m(\u001b[0m\u001b[0;34m)\u001b[0m\u001b[0;34m\u001b[0m\u001b[0;34m\u001b[0m\u001b[0m\n\u001b[0m\u001b[1;32m    101\u001b[0m         except (IndexError,  # end of data\n\u001b[1;32m    102\u001b[0m                 \u001b[0mTypeError\u001b[0m\u001b[0;34m,\u001b[0m  \u001b[0;31m# end of data (ord)\u001b[0m\u001b[0;34m\u001b[0m\u001b[0;34m\u001b[0m\u001b[0m\n",
            "\u001b[0;32m/usr/local/lib/python3.6/dist-packages/PIL/PngImagePlugin.py\u001b[0m in \u001b[0;36m_open\u001b[0;34m(self)\u001b[0m\n\u001b[1;32m    531\u001b[0m \u001b[0;34m\u001b[0m\u001b[0m\n\u001b[1;32m    532\u001b[0m             \u001b[0;32mtry\u001b[0m\u001b[0;34m:\u001b[0m\u001b[0;34m\u001b[0m\u001b[0;34m\u001b[0m\u001b[0m\n\u001b[0;32m--> 533\u001b[0;31m                 \u001b[0ms\u001b[0m \u001b[0;34m=\u001b[0m \u001b[0mself\u001b[0m\u001b[0;34m.\u001b[0m\u001b[0mpng\u001b[0m\u001b[0;34m.\u001b[0m\u001b[0mcall\u001b[0m\u001b[0;34m(\u001b[0m\u001b[0mcid\u001b[0m\u001b[0;34m,\u001b[0m \u001b[0mpos\u001b[0m\u001b[0;34m,\u001b[0m \u001b[0mlength\u001b[0m\u001b[0;34m)\u001b[0m\u001b[0;34m\u001b[0m\u001b[0;34m\u001b[0m\u001b[0m\n\u001b[0m\u001b[1;32m    534\u001b[0m             \u001b[0;32mexcept\u001b[0m \u001b[0mEOFError\u001b[0m\u001b[0;34m:\u001b[0m\u001b[0;34m\u001b[0m\u001b[0;34m\u001b[0m\u001b[0m\n\u001b[1;32m    535\u001b[0m                 \u001b[0;32mbreak\u001b[0m\u001b[0;34m\u001b[0m\u001b[0;34m\u001b[0m\u001b[0m\n",
            "\u001b[0;32m/usr/local/lib/python3.6/dist-packages/PIL/PngImagePlugin.py\u001b[0m in \u001b[0;36mcall\u001b[0;34m(self, cid, pos, length)\u001b[0m\n\u001b[1;32m    129\u001b[0m \u001b[0;34m\u001b[0m\u001b[0m\n\u001b[1;32m    130\u001b[0m         \u001b[0mlogger\u001b[0m\u001b[0;34m.\u001b[0m\u001b[0mdebug\u001b[0m\u001b[0;34m(\u001b[0m\u001b[0;34m\"STREAM %r %s %s\"\u001b[0m\u001b[0;34m,\u001b[0m \u001b[0mcid\u001b[0m\u001b[0;34m,\u001b[0m \u001b[0mpos\u001b[0m\u001b[0;34m,\u001b[0m \u001b[0mlength\u001b[0m\u001b[0;34m)\u001b[0m\u001b[0;34m\u001b[0m\u001b[0;34m\u001b[0m\u001b[0m\n\u001b[0;32m--> 131\u001b[0;31m         \u001b[0;32mreturn\u001b[0m \u001b[0mgetattr\u001b[0m\u001b[0;34m(\u001b[0m\u001b[0mself\u001b[0m\u001b[0;34m,\u001b[0m \u001b[0;34m\"chunk_\"\u001b[0m \u001b[0;34m+\u001b[0m \u001b[0mcid\u001b[0m\u001b[0;34m.\u001b[0m\u001b[0mdecode\u001b[0m\u001b[0;34m(\u001b[0m\u001b[0;34m'ascii'\u001b[0m\u001b[0;34m)\u001b[0m\u001b[0;34m)\u001b[0m\u001b[0;34m(\u001b[0m\u001b[0mpos\u001b[0m\u001b[0;34m,\u001b[0m \u001b[0mlength\u001b[0m\u001b[0;34m)\u001b[0m\u001b[0;34m\u001b[0m\u001b[0;34m\u001b[0m\u001b[0m\n\u001b[0m\u001b[1;32m    132\u001b[0m \u001b[0;34m\u001b[0m\u001b[0m\n\u001b[1;32m    133\u001b[0m     \u001b[0;32mdef\u001b[0m \u001b[0mcrc\u001b[0m\u001b[0;34m(\u001b[0m\u001b[0mself\u001b[0m\u001b[0;34m,\u001b[0m \u001b[0mcid\u001b[0m\u001b[0;34m,\u001b[0m \u001b[0mdata\u001b[0m\u001b[0;34m)\u001b[0m\u001b[0;34m:\u001b[0m\u001b[0;34m\u001b[0m\u001b[0;34m\u001b[0m\u001b[0m\n",
            "\u001b[0;32m/usr/local/lib/python3.6/dist-packages/PIL/PngImagePlugin.py\u001b[0m in \u001b[0;36mchunk_iCCP\u001b[0;34m(self, pos, length)\u001b[0m\n\u001b[1;32m    312\u001b[0m                               comp_method)\n\u001b[1;32m    313\u001b[0m         \u001b[0;32mtry\u001b[0m\u001b[0;34m:\u001b[0m\u001b[0;34m\u001b[0m\u001b[0;34m\u001b[0m\u001b[0m\n\u001b[0;32m--> 314\u001b[0;31m             \u001b[0micc_profile\u001b[0m \u001b[0;34m=\u001b[0m \u001b[0m_safe_zlib_decompress\u001b[0m\u001b[0;34m(\u001b[0m\u001b[0ms\u001b[0m\u001b[0;34m[\u001b[0m\u001b[0mi\u001b[0m\u001b[0;34m+\u001b[0m\u001b[0;36m2\u001b[0m\u001b[0;34m:\u001b[0m\u001b[0;34m]\u001b[0m\u001b[0;34m)\u001b[0m\u001b[0;34m\u001b[0m\u001b[0;34m\u001b[0m\u001b[0m\n\u001b[0m\u001b[1;32m    315\u001b[0m         \u001b[0;32mexcept\u001b[0m \u001b[0mValueError\u001b[0m\u001b[0;34m:\u001b[0m\u001b[0;34m\u001b[0m\u001b[0;34m\u001b[0m\u001b[0m\n\u001b[1;32m    316\u001b[0m             \u001b[0;32mif\u001b[0m \u001b[0mImageFile\u001b[0m\u001b[0;34m.\u001b[0m\u001b[0mLOAD_TRUNCATED_IMAGES\u001b[0m\u001b[0;34m:\u001b[0m\u001b[0;34m\u001b[0m\u001b[0;34m\u001b[0m\u001b[0m\n",
            "\u001b[0;32m/usr/local/lib/python3.6/dist-packages/PIL/PngImagePlugin.py\u001b[0m in \u001b[0;36m_safe_zlib_decompress\u001b[0;34m(s)\u001b[0m\n\u001b[1;32m     81\u001b[0m \u001b[0;32mdef\u001b[0m \u001b[0m_safe_zlib_decompress\u001b[0m\u001b[0;34m(\u001b[0m\u001b[0ms\u001b[0m\u001b[0;34m)\u001b[0m\u001b[0;34m:\u001b[0m\u001b[0;34m\u001b[0m\u001b[0;34m\u001b[0m\u001b[0m\n\u001b[1;32m     82\u001b[0m     \u001b[0mdobj\u001b[0m \u001b[0;34m=\u001b[0m \u001b[0mzlib\u001b[0m\u001b[0;34m.\u001b[0m\u001b[0mdecompressobj\u001b[0m\u001b[0;34m(\u001b[0m\u001b[0;34m)\u001b[0m\u001b[0;34m\u001b[0m\u001b[0;34m\u001b[0m\u001b[0m\n\u001b[0;32m---> 83\u001b[0;31m     \u001b[0mplaintext\u001b[0m \u001b[0;34m=\u001b[0m \u001b[0mdobj\u001b[0m\u001b[0;34m.\u001b[0m\u001b[0mdecompress\u001b[0m\u001b[0;34m(\u001b[0m\u001b[0ms\u001b[0m\u001b[0;34m,\u001b[0m \u001b[0mMAX_TEXT_CHUNK\u001b[0m\u001b[0;34m)\u001b[0m\u001b[0;34m\u001b[0m\u001b[0;34m\u001b[0m\u001b[0m\n\u001b[0m\u001b[1;32m     84\u001b[0m     \u001b[0;32mif\u001b[0m \u001b[0mdobj\u001b[0m\u001b[0;34m.\u001b[0m\u001b[0munconsumed_tail\u001b[0m\u001b[0;34m:\u001b[0m\u001b[0;34m\u001b[0m\u001b[0;34m\u001b[0m\u001b[0m\n\u001b[1;32m     85\u001b[0m         \u001b[0;32mraise\u001b[0m \u001b[0mValueError\u001b[0m\u001b[0;34m(\u001b[0m\u001b[0;34m\"Decompressed Data Too Large\"\u001b[0m\u001b[0;34m)\u001b[0m\u001b[0;34m\u001b[0m\u001b[0;34m\u001b[0m\u001b[0m\n",
            "\u001b[0;31mKeyboardInterrupt\u001b[0m: "
          ]
        }
      ]
    },
    {
      "metadata": {
        "id": "BbHRKbcIkpF3",
        "colab_type": "code",
        "outputId": "31fbe429-542c-43df-edb2-0030ec0ac54a",
        "colab": {
          "base_uri": "https://localhost:8080/",
          "height": 383
        }
      },
      "cell_type": "code",
      "source": [
        "scope(H=64, W=128, cutoff_length=None, batch_size=12, num_epochs=1, \n",
        "      val_split=0.025, model_type='resnet-18')"
      ],
      "execution_count": 0,
      "outputs": [
        {
          "output_type": "stream",
          "text": [
            "len(dataset): 36766\n",
            "919 images in validation dataset\n"
          ],
          "name": "stdout"
        },
        {
          "output_type": "stream",
          "text": [
            "Val 76/77: loss 2.698, acc. 0.000: 100%|██████████| 77/77 [06:15<00:00,  3.97s/it]"
          ],
          "name": "stderr"
        },
        {
          "output_type": "stream",
          "text": [
            "Avg val loss: 2.882, acc: 0.028\n"
          ],
          "name": "stdout"
        },
        {
          "output_type": "stream",
          "text": [
            "Epoch 0: loss 3.0115, accuracy 0.000:   0%|          | 7/2988 [06:55<20:21:47, 24.59s/it]"
          ],
          "name": "stderr"
        },
        {
          "output_type": "error",
          "ename": "KeyboardInterrupt",
          "evalue": "ignored",
          "traceback": [
            "\u001b[0;31m---------------------------------------------------------------------------\u001b[0m",
            "\u001b[0;31mKeyboardInterrupt\u001b[0m                         Traceback (most recent call last)",
            "\u001b[0;32m<ipython-input-73-04fec4c6317c>\u001b[0m in \u001b[0;36m<module>\u001b[0;34m()\u001b[0m\n\u001b[1;32m      1\u001b[0m scope(H=64, W=128, cutoff_length=None, batch_size=12, num_epochs=1, \n\u001b[0;32m----> 2\u001b[0;31m       val_split=0.025, model_type='resnet-18')\n\u001b[0m",
            "\u001b[0;32m<ipython-input-61-76cd9a034432>\u001b[0m in \u001b[0;36mscope\u001b[0;34m(H, W, cutoff_length, batch_size, num_epochs, val_split, model_type, learning_rate)\u001b[0m\n\u001b[1;32m     38\u001b[0m             \u001b[0mloss\u001b[0m \u001b[0;34m=\u001b[0m \u001b[0mobjective\u001b[0m\u001b[0;34m(\u001b[0m\u001b[0my_hat\u001b[0m\u001b[0;34m,\u001b[0m \u001b[0my_truth\u001b[0m\u001b[0;34m)\u001b[0m \u001b[0;31m# expected Long, got Double\u001b[0m\u001b[0;34m\u001b[0m\u001b[0;34m\u001b[0m\u001b[0m\n\u001b[1;32m     39\u001b[0m             \u001b[0mnum_correct\u001b[0m \u001b[0;34m=\u001b[0m \u001b[0mtorch\u001b[0m\u001b[0;34m.\u001b[0m\u001b[0msum\u001b[0m\u001b[0;34m(\u001b[0m\u001b[0my_truth\u001b[0m \u001b[0;34m==\u001b[0m \u001b[0mtorch\u001b[0m\u001b[0;34m.\u001b[0m\u001b[0margmax\u001b[0m\u001b[0;34m(\u001b[0m\u001b[0my_hat\u001b[0m\u001b[0;34m,\u001b[0m\u001b[0mdim\u001b[0m\u001b[0;34m=\u001b[0m\u001b[0;36m1\u001b[0m\u001b[0;34m)\u001b[0m\u001b[0;34m)\u001b[0m\u001b[0;34m\u001b[0m\u001b[0;34m\u001b[0m\u001b[0m\n\u001b[0;32m---> 40\u001b[0;31m             \u001b[0ma\u001b[0m \u001b[0;34m=\u001b[0m \u001b[0mfloat\u001b[0m\u001b[0;34m(\u001b[0m\u001b[0mnum_correct\u001b[0m\u001b[0;34m)\u001b[0m \u001b[0;34m/\u001b[0m \u001b[0mfloat\u001b[0m\u001b[0;34m(\u001b[0m\u001b[0mbatch_size\u001b[0m\u001b[0;34m)\u001b[0m\u001b[0;34m\u001b[0m\u001b[0;34m\u001b[0m\u001b[0m\n\u001b[0m\u001b[1;32m     41\u001b[0m             \u001b[0mtrain_accuracies\u001b[0m\u001b[0;34m.\u001b[0m\u001b[0mappend\u001b[0m\u001b[0;34m(\u001b[0m\u001b[0ma\u001b[0m\u001b[0;34m)\u001b[0m\u001b[0;34m\u001b[0m\u001b[0;34m\u001b[0m\u001b[0m\n\u001b[1;32m     42\u001b[0m \u001b[0;34m\u001b[0m\u001b[0m\n",
            "\u001b[0;31mKeyboardInterrupt\u001b[0m: "
          ]
        }
      ]
    },
    {
      "metadata": {
        "id": "QxXhUKt2yI5x",
        "colab_type": "code",
        "colab": {}
      },
      "cell_type": "code",
      "source": [
        "scope(H=128, W=256, cutoff_length=10000, batch_size=4, num_epochs=1, \n",
        "      val_split=0.01, model_type='resnet-18')"
      ],
      "execution_count": 0,
      "outputs": []
    },
    {
      "metadata": {
        "id": "ZIXZe_SvyFh8",
        "colab_type": "code",
        "colab": {}
      },
      "cell_type": "code",
      "source": [
        "scope(H=128, W=256, cutoff_length=10000, batch_size=8, num_epochs=1, \n",
        "      val_split=0.1, model_type='Lab3', learning_rate=1e-5)"
      ],
      "execution_count": 0,
      "outputs": []
    },
    {
      "metadata": {
        "id": "iCgYA00RxErs",
        "colab_type": "text"
      },
      "cell_type": "markdown",
      "source": [
        "# Before I fixed the cropping"
      ]
    },
    {
      "metadata": {
        "id": "RC4GijNcks_b",
        "colab_type": "code",
        "outputId": "52ebd01c-2e9c-4c62-f360-4101ca55fcee",
        "colab": {
          "base_uri": "https://localhost:8080/",
          "height": 1358
        }
      },
      "cell_type": "code",
      "source": [
        "scope(H=128, W=256, cutoff_length=10000, batch_size=8, num_epochs=1, \n",
        "      val_split=0.1, model_type='Lab3', learning_rate=1e-5)"
      ],
      "execution_count": 0,
      "outputs": [
        {
          "output_type": "stream",
          "text": [
            "\r  0%|          | 0/1125 [00:00<?, ?it/s]"
          ],
          "name": "stderr"
        },
        {
          "output_type": "stream",
          "text": [
            "len(dataset): 10000\n",
            "1000 images in validation dataset\n"
          ],
          "name": "stdout"
        },
        {
          "output_type": "stream",
          "text": [
            "Val 124/125: loss 2.388, acc. 0.000: 100%|██████████| 125/125 [00:51<00:00,  2.46it/s]"
          ],
          "name": "stderr"
        },
        {
          "output_type": "stream",
          "text": [
            "Avg val loss: 2.385, acc: 0.000\n"
          ],
          "name": "stdout"
        },
        {
          "output_type": "stream",
          "text": [
            "Val 124/125: loss 0.938, acc. 0.750: 100%|██████████| 125/125 [00:53<00:00,  2.35it/s]"
          ],
          "name": "stderr"
        },
        {
          "output_type": "stream",
          "text": [
            "Avg val loss: 0.933, acc: 0.747\n"
          ],
          "name": "stdout"
        },
        {
          "output_type": "stream",
          "text": [
            "Val 124/125: loss 0.552, acc. 0.875: 100%|██████████| 125/125 [00:53<00:00,  2.36it/s]"
          ],
          "name": "stderr"
        },
        {
          "output_type": "stream",
          "text": [
            "Avg val loss: 0.770, acc: 0.747\n"
          ],
          "name": "stdout"
        },
        {
          "output_type": "stream",
          "text": [
            "Val 124/125: loss 0.946, acc. 0.625: 100%|██████████| 125/125 [00:52<00:00,  2.36it/s]"
          ],
          "name": "stderr"
        },
        {
          "output_type": "stream",
          "text": [
            "Avg val loss: 0.769, acc: 0.747\n"
          ],
          "name": "stdout"
        },
        {
          "output_type": "stream",
          "text": [
            "Val 124/125: loss 0.741, acc. 0.750: 100%|██████████| 125/125 [00:53<00:00,  2.24it/s]"
          ],
          "name": "stderr"
        },
        {
          "output_type": "stream",
          "text": [
            "Avg val loss: 0.742, acc: 0.747\n"
          ],
          "name": "stdout"
        },
        {
          "output_type": "stream",
          "text": [
            "Val 124/125: loss 0.974, acc. 0.625: 100%|██████████| 125/125 [00:53<00:00,  2.17it/s]"
          ],
          "name": "stderr"
        },
        {
          "output_type": "stream",
          "text": [
            "Avg val loss: 0.746, acc: 0.747\n"
          ],
          "name": "stdout"
        },
        {
          "output_type": "stream",
          "text": [
            "Val 124/125: loss 0.926, acc. 0.625: 100%|██████████| 125/125 [00:53<00:00,  2.26it/s]"
          ],
          "name": "stderr"
        },
        {
          "output_type": "stream",
          "text": [
            "Avg val loss: 0.741, acc: 0.747\n"
          ],
          "name": "stdout"
        },
        {
          "output_type": "stream",
          "text": [
            "Val 124/125: loss 0.886, acc. 0.625: 100%|██████████| 125/125 [00:53<00:00,  2.33it/s]"
          ],
          "name": "stderr"
        },
        {
          "output_type": "stream",
          "text": [
            "Avg val loss: 0.738, acc: 0.747\n"
          ],
          "name": "stdout"
        },
        {
          "output_type": "stream",
          "text": [
            "Val 124/125: loss 0.960, acc. 0.625: 100%|██████████| 125/125 [00:52<00:00,  2.40it/s]"
          ],
          "name": "stderr"
        },
        {
          "output_type": "stream",
          "text": [
            "Avg val loss: 0.742, acc: 0.747\n"
          ],
          "name": "stdout"
        },
        {
          "output_type": "stream",
          "text": [
            "Val 124/125: loss 0.992, acc. 0.625: 100%|██████████| 125/125 [00:54<00:00,  2.31it/s]"
          ],
          "name": "stderr"
        },
        {
          "output_type": "stream",
          "text": [
            "Avg val loss: 0.738, acc: 0.747\n"
          ],
          "name": "stdout"
        },
        {
          "output_type": "stream",
          "text": [
            "Val 109/125: loss 0.920, acc. 0.625:  88%|████████▊ | 110/125 [00:54<00:06,  2.33it/s]"
          ],
          "name": "stderr"
        },
        {
          "output_type": "error",
          "ename": "KeyboardInterrupt",
          "evalue": "ignored",
          "traceback": [
            "\u001b[0;31m---------------------------------------------------------------------------\u001b[0m",
            "\u001b[0;31mKeyboardInterrupt\u001b[0m                         Traceback (most recent call last)",
            "\u001b[0;32m<ipython-input-69-ac2592bd5960>\u001b[0m in \u001b[0;36m<module>\u001b[0;34m()\u001b[0m\n\u001b[1;32m      1\u001b[0m scope(H=128, W=256, cutoff_length=10000, batch_size=8, num_epochs=1, \n\u001b[0;32m----> 2\u001b[0;31m       val_split=0.1, model_type='Lab3', learning_rate=1e-5)\n\u001b[0m",
            "\u001b[0;32m<ipython-input-61-76cd9a034432>\u001b[0m in \u001b[0;36mscope\u001b[0;34m(H, W, cutoff_length, batch_size, num_epochs, val_split, model_type, learning_rate)\u001b[0m\n\u001b[1;32m     55\u001b[0m                 \u001b[0mval_acc\u001b[0m \u001b[0;34m=\u001b[0m \u001b[0;36m0\u001b[0m\u001b[0;34m\u001b[0m\u001b[0;34m\u001b[0m\u001b[0m\n\u001b[1;32m     56\u001b[0m                 \u001b[0mloop2\u001b[0m \u001b[0;34m=\u001b[0m \u001b[0mtqdm\u001b[0m\u001b[0;34m(\u001b[0m\u001b[0mtotal\u001b[0m\u001b[0;34m=\u001b[0m\u001b[0mlen\u001b[0m\u001b[0;34m(\u001b[0m\u001b[0mval_loader\u001b[0m\u001b[0;34m)\u001b[0m\u001b[0;34m,\u001b[0m \u001b[0mposition\u001b[0m\u001b[0;34m=\u001b[0m\u001b[0;36m0\u001b[0m\u001b[0;34m,\u001b[0m \u001b[0mleave\u001b[0m\u001b[0;34m=\u001b[0m\u001b[0;32mTrue\u001b[0m\u001b[0;34m)\u001b[0m\u001b[0;34m\u001b[0m\u001b[0;34m\u001b[0m\u001b[0m\n\u001b[0;32m---> 57\u001b[0;31m                 \u001b[0;32mfor\u001b[0m \u001b[0mi\u001b[0m\u001b[0;34m,\u001b[0m \u001b[0;34m(\u001b[0m\u001b[0mpgs\u001b[0m\u001b[0;34m,\u001b[0m \u001b[0mtrue_s\u001b[0m\u001b[0;34m,\u001b[0m \u001b[0mtrue_pts\u001b[0m\u001b[0;34m)\u001b[0m \u001b[0;32min\u001b[0m \u001b[0menumerate\u001b[0m\u001b[0;34m(\u001b[0m\u001b[0mval_loader\u001b[0m\u001b[0;34m)\u001b[0m\u001b[0;34m:\u001b[0m\u001b[0;34m\u001b[0m\u001b[0;34m\u001b[0m\u001b[0m\n\u001b[0m\u001b[1;32m     58\u001b[0m \u001b[0;34m\u001b[0m\u001b[0m\n\u001b[1;32m     59\u001b[0m                     \u001b[0mx\u001b[0m\u001b[0;34m,\u001b[0m \u001b[0my_truth\u001b[0m \u001b[0;34m=\u001b[0m \u001b[0mpgs\u001b[0m\u001b[0;34m.\u001b[0m\u001b[0mcuda\u001b[0m\u001b[0;34m(\u001b[0m\u001b[0;34m)\u001b[0m\u001b[0;34m,\u001b[0m \u001b[0mtrue_pts\u001b[0m\u001b[0;34m.\u001b[0m\u001b[0mcuda\u001b[0m\u001b[0;34m(\u001b[0m\u001b[0;34m)\u001b[0m\u001b[0;34m.\u001b[0m\u001b[0mlong\u001b[0m\u001b[0;34m(\u001b[0m\u001b[0;34m)\u001b[0m\u001b[0;34m\u001b[0m\u001b[0;34m\u001b[0m\u001b[0m\n",
            "\u001b[0;32m/usr/local/lib/python3.6/dist-packages/torch/utils/data/dataloader.py\u001b[0m in \u001b[0;36m__next__\u001b[0;34m(self)\u001b[0m\n\u001b[1;32m    613\u001b[0m         \u001b[0;32mif\u001b[0m \u001b[0mself\u001b[0m\u001b[0;34m.\u001b[0m\u001b[0mnum_workers\u001b[0m \u001b[0;34m==\u001b[0m \u001b[0;36m0\u001b[0m\u001b[0;34m:\u001b[0m  \u001b[0;31m# same-process loading\u001b[0m\u001b[0;34m\u001b[0m\u001b[0;34m\u001b[0m\u001b[0m\n\u001b[1;32m    614\u001b[0m             \u001b[0mindices\u001b[0m \u001b[0;34m=\u001b[0m \u001b[0mnext\u001b[0m\u001b[0;34m(\u001b[0m\u001b[0mself\u001b[0m\u001b[0;34m.\u001b[0m\u001b[0msample_iter\u001b[0m\u001b[0;34m)\u001b[0m  \u001b[0;31m# may raise StopIteration\u001b[0m\u001b[0;34m\u001b[0m\u001b[0;34m\u001b[0m\u001b[0m\n\u001b[0;32m--> 615\u001b[0;31m             \u001b[0mbatch\u001b[0m \u001b[0;34m=\u001b[0m \u001b[0mself\u001b[0m\u001b[0;34m.\u001b[0m\u001b[0mcollate_fn\u001b[0m\u001b[0;34m(\u001b[0m\u001b[0;34m[\u001b[0m\u001b[0mself\u001b[0m\u001b[0;34m.\u001b[0m\u001b[0mdataset\u001b[0m\u001b[0;34m[\u001b[0m\u001b[0mi\u001b[0m\u001b[0;34m]\u001b[0m \u001b[0;32mfor\u001b[0m \u001b[0mi\u001b[0m \u001b[0;32min\u001b[0m \u001b[0mindices\u001b[0m\u001b[0;34m]\u001b[0m\u001b[0;34m)\u001b[0m\u001b[0;34m\u001b[0m\u001b[0;34m\u001b[0m\u001b[0m\n\u001b[0m\u001b[1;32m    616\u001b[0m             \u001b[0;32mif\u001b[0m \u001b[0mself\u001b[0m\u001b[0;34m.\u001b[0m\u001b[0mpin_memory\u001b[0m\u001b[0;34m:\u001b[0m\u001b[0;34m\u001b[0m\u001b[0;34m\u001b[0m\u001b[0m\n\u001b[1;32m    617\u001b[0m                 \u001b[0mbatch\u001b[0m \u001b[0;34m=\u001b[0m \u001b[0mpin_memory_batch\u001b[0m\u001b[0;34m(\u001b[0m\u001b[0mbatch\u001b[0m\u001b[0;34m)\u001b[0m\u001b[0;34m\u001b[0m\u001b[0;34m\u001b[0m\u001b[0m\n",
            "\u001b[0;32m/usr/local/lib/python3.6/dist-packages/torch/utils/data/dataloader.py\u001b[0m in \u001b[0;36m<listcomp>\u001b[0;34m(.0)\u001b[0m\n\u001b[1;32m    613\u001b[0m         \u001b[0;32mif\u001b[0m \u001b[0mself\u001b[0m\u001b[0;34m.\u001b[0m\u001b[0mnum_workers\u001b[0m \u001b[0;34m==\u001b[0m \u001b[0;36m0\u001b[0m\u001b[0;34m:\u001b[0m  \u001b[0;31m# same-process loading\u001b[0m\u001b[0;34m\u001b[0m\u001b[0;34m\u001b[0m\u001b[0m\n\u001b[1;32m    614\u001b[0m             \u001b[0mindices\u001b[0m \u001b[0;34m=\u001b[0m \u001b[0mnext\u001b[0m\u001b[0;34m(\u001b[0m\u001b[0mself\u001b[0m\u001b[0;34m.\u001b[0m\u001b[0msample_iter\u001b[0m\u001b[0;34m)\u001b[0m  \u001b[0;31m# may raise StopIteration\u001b[0m\u001b[0;34m\u001b[0m\u001b[0;34m\u001b[0m\u001b[0m\n\u001b[0;32m--> 615\u001b[0;31m             \u001b[0mbatch\u001b[0m \u001b[0;34m=\u001b[0m \u001b[0mself\u001b[0m\u001b[0;34m.\u001b[0m\u001b[0mcollate_fn\u001b[0m\u001b[0;34m(\u001b[0m\u001b[0;34m[\u001b[0m\u001b[0mself\u001b[0m\u001b[0;34m.\u001b[0m\u001b[0mdataset\u001b[0m\u001b[0;34m[\u001b[0m\u001b[0mi\u001b[0m\u001b[0;34m]\u001b[0m \u001b[0;32mfor\u001b[0m \u001b[0mi\u001b[0m \u001b[0;32min\u001b[0m \u001b[0mindices\u001b[0m\u001b[0;34m]\u001b[0m\u001b[0;34m)\u001b[0m\u001b[0;34m\u001b[0m\u001b[0;34m\u001b[0m\u001b[0m\n\u001b[0m\u001b[1;32m    616\u001b[0m             \u001b[0;32mif\u001b[0m \u001b[0mself\u001b[0m\u001b[0;34m.\u001b[0m\u001b[0mpin_memory\u001b[0m\u001b[0;34m:\u001b[0m\u001b[0;34m\u001b[0m\u001b[0;34m\u001b[0m\u001b[0m\n\u001b[1;32m    617\u001b[0m                 \u001b[0mbatch\u001b[0m \u001b[0;34m=\u001b[0m \u001b[0mpin_memory_batch\u001b[0m\u001b[0;34m(\u001b[0m\u001b[0mbatch\u001b[0m\u001b[0;34m)\u001b[0m\u001b[0;34m\u001b[0m\u001b[0;34m\u001b[0m\u001b[0m\n",
            "\u001b[0;32m/usr/local/lib/python3.6/dist-packages/torch/utils/data/dataset.py\u001b[0m in \u001b[0;36m__getitem__\u001b[0;34m(self, idx)\u001b[0m\n\u001b[1;32m    101\u001b[0m \u001b[0;34m\u001b[0m\u001b[0m\n\u001b[1;32m    102\u001b[0m     \u001b[0;32mdef\u001b[0m \u001b[0m__getitem__\u001b[0m\u001b[0;34m(\u001b[0m\u001b[0mself\u001b[0m\u001b[0;34m,\u001b[0m \u001b[0midx\u001b[0m\u001b[0;34m)\u001b[0m\u001b[0;34m:\u001b[0m\u001b[0;34m\u001b[0m\u001b[0;34m\u001b[0m\u001b[0m\n\u001b[0;32m--> 103\u001b[0;31m         \u001b[0;32mreturn\u001b[0m \u001b[0mself\u001b[0m\u001b[0;34m.\u001b[0m\u001b[0mdataset\u001b[0m\u001b[0;34m[\u001b[0m\u001b[0mself\u001b[0m\u001b[0;34m.\u001b[0m\u001b[0mindices\u001b[0m\u001b[0;34m[\u001b[0m\u001b[0midx\u001b[0m\u001b[0;34m]\u001b[0m\u001b[0;34m]\u001b[0m\u001b[0;34m\u001b[0m\u001b[0;34m\u001b[0m\u001b[0m\n\u001b[0m\u001b[1;32m    104\u001b[0m \u001b[0;34m\u001b[0m\u001b[0m\n\u001b[1;32m    105\u001b[0m     \u001b[0;32mdef\u001b[0m \u001b[0m__len__\u001b[0m\u001b[0;34m(\u001b[0m\u001b[0mself\u001b[0m\u001b[0;34m)\u001b[0m\u001b[0;34m:\u001b[0m\u001b[0;34m\u001b[0m\u001b[0;34m\u001b[0m\u001b[0m\n",
            "\u001b[0;32m<ipython-input-4-ecbc9952c341>\u001b[0m in \u001b[0;36m__getitem__\u001b[0;34m(self, i)\u001b[0m\n\u001b[1;32m     54\u001b[0m         \u001b[0maka\u001b[0m \u001b[0mpage\u001b[0m\u001b[0;34m,\u001b[0m \u001b[0mscore\u001b[0m\u001b[0;34m,\u001b[0m \u001b[0mmax_score\u001b[0m\u001b[0;34m\u001b[0m\u001b[0;34m\u001b[0m\u001b[0m\n\u001b[1;32m     55\u001b[0m         \"\"\"\n\u001b[0;32m---> 56\u001b[0;31m         \u001b[0mimg\u001b[0m \u001b[0;34m=\u001b[0m \u001b[0mself\u001b[0m\u001b[0;34m.\u001b[0m\u001b[0mimage_folder\u001b[0m\u001b[0;34m[\u001b[0m\u001b[0mi\u001b[0m\u001b[0;34m]\u001b[0m\u001b[0;34m\u001b[0m\u001b[0;34m\u001b[0m\u001b[0m\n\u001b[0m\u001b[1;32m     57\u001b[0m \u001b[0;34m\u001b[0m\u001b[0m\n\u001b[1;32m     58\u001b[0m         \u001b[0;31m# We only want the top bit\u001b[0m\u001b[0;34m\u001b[0m\u001b[0;34m\u001b[0m\u001b[0;34m\u001b[0m\u001b[0m\n",
            "\u001b[0;32m/usr/local/lib/python3.6/dist-packages/torchvision/datasets/folder.py\u001b[0m in \u001b[0;36m__getitem__\u001b[0;34m(self, index)\u001b[0m\n\u001b[1;32m     99\u001b[0m         \"\"\"\n\u001b[1;32m    100\u001b[0m         \u001b[0mpath\u001b[0m\u001b[0;34m,\u001b[0m \u001b[0mtarget\u001b[0m \u001b[0;34m=\u001b[0m \u001b[0mself\u001b[0m\u001b[0;34m.\u001b[0m\u001b[0msamples\u001b[0m\u001b[0;34m[\u001b[0m\u001b[0mindex\u001b[0m\u001b[0;34m]\u001b[0m\u001b[0;34m\u001b[0m\u001b[0;34m\u001b[0m\u001b[0m\n\u001b[0;32m--> 101\u001b[0;31m         \u001b[0msample\u001b[0m \u001b[0;34m=\u001b[0m \u001b[0mself\u001b[0m\u001b[0;34m.\u001b[0m\u001b[0mloader\u001b[0m\u001b[0;34m(\u001b[0m\u001b[0mpath\u001b[0m\u001b[0;34m)\u001b[0m\u001b[0;34m\u001b[0m\u001b[0;34m\u001b[0m\u001b[0m\n\u001b[0m\u001b[1;32m    102\u001b[0m         \u001b[0;32mif\u001b[0m \u001b[0mself\u001b[0m\u001b[0;34m.\u001b[0m\u001b[0mtransform\u001b[0m \u001b[0;32mis\u001b[0m \u001b[0;32mnot\u001b[0m \u001b[0;32mNone\u001b[0m\u001b[0;34m:\u001b[0m\u001b[0;34m\u001b[0m\u001b[0;34m\u001b[0m\u001b[0m\n\u001b[1;32m    103\u001b[0m             \u001b[0msample\u001b[0m \u001b[0;34m=\u001b[0m \u001b[0mself\u001b[0m\u001b[0;34m.\u001b[0m\u001b[0mtransform\u001b[0m\u001b[0;34m(\u001b[0m\u001b[0msample\u001b[0m\u001b[0;34m)\u001b[0m\u001b[0;34m\u001b[0m\u001b[0;34m\u001b[0m\u001b[0m\n",
            "\u001b[0;32m/usr/local/lib/python3.6/dist-packages/torchvision/datasets/folder.py\u001b[0m in \u001b[0;36mdefault_loader\u001b[0;34m(path)\u001b[0m\n\u001b[1;32m    145\u001b[0m         \u001b[0;32mreturn\u001b[0m \u001b[0maccimage_loader\u001b[0m\u001b[0;34m(\u001b[0m\u001b[0mpath\u001b[0m\u001b[0;34m)\u001b[0m\u001b[0;34m\u001b[0m\u001b[0;34m\u001b[0m\u001b[0m\n\u001b[1;32m    146\u001b[0m     \u001b[0;32melse\u001b[0m\u001b[0;34m:\u001b[0m\u001b[0;34m\u001b[0m\u001b[0;34m\u001b[0m\u001b[0m\n\u001b[0;32m--> 147\u001b[0;31m         \u001b[0;32mreturn\u001b[0m \u001b[0mpil_loader\u001b[0m\u001b[0;34m(\u001b[0m\u001b[0mpath\u001b[0m\u001b[0;34m)\u001b[0m\u001b[0;34m\u001b[0m\u001b[0;34m\u001b[0m\u001b[0m\n\u001b[0m\u001b[1;32m    148\u001b[0m \u001b[0;34m\u001b[0m\u001b[0m\n\u001b[1;32m    149\u001b[0m \u001b[0;34m\u001b[0m\u001b[0m\n",
            "\u001b[0;32m/usr/local/lib/python3.6/dist-packages/torchvision/datasets/folder.py\u001b[0m in \u001b[0;36mpil_loader\u001b[0;34m(path)\u001b[0m\n\u001b[1;32m    126\u001b[0m \u001b[0;32mdef\u001b[0m \u001b[0mpil_loader\u001b[0m\u001b[0;34m(\u001b[0m\u001b[0mpath\u001b[0m\u001b[0;34m)\u001b[0m\u001b[0;34m:\u001b[0m\u001b[0;34m\u001b[0m\u001b[0;34m\u001b[0m\u001b[0m\n\u001b[1;32m    127\u001b[0m     \u001b[0;31m# open path as file to avoid ResourceWarning (https://github.com/python-pillow/Pillow/issues/835)\u001b[0m\u001b[0;34m\u001b[0m\u001b[0;34m\u001b[0m\u001b[0;34m\u001b[0m\u001b[0m\n\u001b[0;32m--> 128\u001b[0;31m     \u001b[0;32mwith\u001b[0m \u001b[0mopen\u001b[0m\u001b[0;34m(\u001b[0m\u001b[0mpath\u001b[0m\u001b[0;34m,\u001b[0m \u001b[0;34m'rb'\u001b[0m\u001b[0;34m)\u001b[0m \u001b[0;32mas\u001b[0m \u001b[0mf\u001b[0m\u001b[0;34m:\u001b[0m\u001b[0;34m\u001b[0m\u001b[0;34m\u001b[0m\u001b[0m\n\u001b[0m\u001b[1;32m    129\u001b[0m         \u001b[0mimg\u001b[0m \u001b[0;34m=\u001b[0m \u001b[0mImage\u001b[0m\u001b[0;34m.\u001b[0m\u001b[0mopen\u001b[0m\u001b[0;34m(\u001b[0m\u001b[0mf\u001b[0m\u001b[0;34m)\u001b[0m\u001b[0;34m\u001b[0m\u001b[0;34m\u001b[0m\u001b[0m\n\u001b[1;32m    130\u001b[0m         \u001b[0;32mreturn\u001b[0m \u001b[0mimg\u001b[0m\u001b[0;34m.\u001b[0m\u001b[0mconvert\u001b[0m\u001b[0;34m(\u001b[0m\u001b[0;34m'RGB'\u001b[0m\u001b[0;34m)\u001b[0m\u001b[0;34m\u001b[0m\u001b[0;34m\u001b[0m\u001b[0m\n",
            "\u001b[0;31mKeyboardInterrupt\u001b[0m: "
          ]
        }
      ]
    },
    {
      "metadata": {
        "id": "-Pw9xJS2P0za",
        "colab_type": "code",
        "outputId": "c10a8e5a-7416-414c-bfdb-204dd7aa9883",
        "colab": {
          "base_uri": "https://localhost:8080/",
          "height": 786
        }
      },
      "cell_type": "code",
      "source": [
        "scope(H=128, W=256, cutoff_length=10000, batch_size=4, num_epochs=1, \n",
        "      val_split=0.01, model_type='resnet-18')"
      ],
      "execution_count": 0,
      "outputs": [
        {
          "output_type": "stream",
          "text": [
            "len(dataset): 10000\n",
            "100 images in validation dataset\n"
          ],
          "name": "stdout"
        },
        {
          "output_type": "stream",
          "text": [
            "Val 24/25: loss 2.381, acc. 0.000: 100%|██████████| 25/25 [00:32<00:00,  1.33s/it]"
          ],
          "name": "stderr"
        },
        {
          "output_type": "stream",
          "text": [
            "Avg val loss: 2.481, acc: 0.000\n"
          ],
          "name": "stdout"
        },
        {
          "output_type": "stream",
          "text": [
            "Val 24/25: loss 1.154, acc. 1.000: 100%|██████████| 25/25 [00:04<00:00,  5.17it/s]"
          ],
          "name": "stderr"
        },
        {
          "output_type": "stream",
          "text": [
            "Avg val loss: 1.398, acc: 0.730\n"
          ],
          "name": "stdout"
        },
        {
          "output_type": "stream",
          "text": [
            "Val 24/25: loss 0.722, acc. 1.000: 100%|██████████| 25/25 [00:05<00:00,  4.40it/s]"
          ],
          "name": "stderr"
        },
        {
          "output_type": "stream",
          "text": [
            "Avg val loss: 0.853, acc: 0.770\n"
          ],
          "name": "stdout"
        },
        {
          "output_type": "stream",
          "text": [
            "Val 24/25: loss 0.533, acc. 1.000: 100%|██████████| 25/25 [00:04<00:00,  5.20it/s]"
          ],
          "name": "stderr"
        },
        {
          "output_type": "stream",
          "text": [
            "Avg val loss: 0.651, acc: 0.830\n"
          ],
          "name": "stdout"
        },
        {
          "output_type": "stream",
          "text": [
            "Val 24/25: loss 0.414, acc. 1.000: 100%|██████████| 25/25 [00:05<00:00,  4.14it/s]"
          ],
          "name": "stderr"
        },
        {
          "output_type": "stream",
          "text": [
            "Avg val loss: 0.544, acc: 0.840\n"
          ],
          "name": "stdout"
        },
        {
          "output_type": "stream",
          "text": [
            "Val 24/25: loss 0.512, acc. 0.750: 100%|██████████| 25/25 [00:06<00:00,  4.32it/s]"
          ],
          "name": "stderr"
        },
        {
          "output_type": "stream",
          "text": [
            "Avg val loss: 0.532, acc: 0.840\n"
          ],
          "name": "stdout"
        },
        {
          "output_type": "stream",
          "text": [
            "Val 24/25: loss 0.600, acc. 0.500: 100%|██████████| 25/25 [00:05<00:00,  4.11it/s]"
          ],
          "name": "stderr"
        },
        {
          "output_type": "stream",
          "text": [
            "Avg val loss: 0.436, acc: 0.820\n"
          ],
          "name": "stdout"
        },
        {
          "output_type": "stream",
          "text": [
            "Val 24/25: loss 0.481, acc. 0.750: 100%|██████████| 25/25 [00:05<00:00,  4.06it/s]"
          ],
          "name": "stderr"
        },
        {
          "output_type": "stream",
          "text": [
            "Avg val loss: 0.429, acc: 0.830\n"
          ],
          "name": "stdout"
        },
        {
          "output_type": "stream",
          "text": [
            "Val 24/25: loss 0.238, acc. 0.750: 100%|██████████| 25/25 [00:04<00:00,  5.57it/s]"
          ],
          "name": "stderr"
        },
        {
          "output_type": "stream",
          "text": [
            "Avg val loss: 0.332, acc: 0.890\n"
          ],
          "name": "stdout"
        },
        {
          "output_type": "stream",
          "text": [
            "Val 24/25: loss 0.051, acc. 1.000: 100%|██████████| 25/25 [00:04<00:00,  5.26it/s]"
          ],
          "name": "stderr"
        },
        {
          "output_type": "stream",
          "text": [
            "Avg val loss: 0.373, acc: 0.870\n"
          ],
          "name": "stdout"
        },
        {
          "output_type": "stream",
          "text": [
            "Val 24/25: loss 0.247, acc. 1.000: 100%|██████████| 25/25 [00:04<00:00,  5.40it/s]"
          ],
          "name": "stderr"
        },
        {
          "output_type": "stream",
          "text": [
            "Avg val loss: 0.254, acc: 0.910\n"
          ],
          "name": "stdout"
        },
        {
          "output_type": "stream",
          "text": [
            "Val 24/25: loss 0.189, acc. 1.000: 100%|██████████| 25/25 [00:04<00:00,  5.61it/s]"
          ],
          "name": "stderr"
        },
        {
          "output_type": "stream",
          "text": [
            "Avg val loss: 0.238, acc: 0.930\n"
          ],
          "name": "stdout"
        },
        {
          "output_type": "stream",
          "text": [
            "Val 24/25: loss 0.479, acc. 0.750: 100%|██████████| 25/25 [00:04<00:00,  5.31it/s]"
          ],
          "name": "stderr"
        },
        {
          "output_type": "stream",
          "text": [
            "Avg val loss: 0.298, acc: 0.870\n"
          ],
          "name": "stdout"
        },
        {
          "output_type": "stream",
          "text": [
            "Val 24/25: loss 0.174, acc. 1.000: 100%|██████████| 25/25 [00:04<00:00,  5.65it/s]"
          ],
          "name": "stderr"
        },
        {
          "output_type": "stream",
          "text": [
            "Avg val loss: 0.195, acc: 0.940\n"
          ],
          "name": "stdout"
        },
        {
          "output_type": "stream",
          "text": [
            "Val 24/25: loss 0.128, acc. 1.000: 100%|██████████| 25/25 [00:04<00:00,  5.25it/s]"
          ],
          "name": "stderr"
        },
        {
          "output_type": "stream",
          "text": [
            "Avg val loss: 0.255, acc: 0.910\n"
          ],
          "name": "stdout"
        },
        {
          "output_type": "stream",
          "text": [
            "Val 24/25: loss 0.334, acc. 0.750: 100%|██████████| 25/25 [00:04<00:00,  5.40it/s]"
          ],
          "name": "stderr"
        },
        {
          "output_type": "stream",
          "text": [
            "Avg val loss: 0.181, acc: 0.950\n"
          ],
          "name": "stdout"
        },
        {
          "output_type": "stream",
          "text": [
            "Val 24/25: loss 0.162, acc. 1.000: 100%|██████████| 25/25 [00:04<00:00,  5.30it/s]"
          ],
          "name": "stderr"
        },
        {
          "output_type": "stream",
          "text": [
            "Avg val loss: 0.209, acc: 0.940\n"
          ],
          "name": "stdout"
        },
        {
          "output_type": "stream",
          "text": [
            "Val 24/25: loss 0.073, acc. 1.000: 100%|██████████| 25/25 [00:04<00:00,  5.43it/s]"
          ],
          "name": "stderr"
        },
        {
          "output_type": "stream",
          "text": [
            "Avg val loss: 0.196, acc: 0.950\n"
          ],
          "name": "stdout"
        },
        {
          "output_type": "stream",
          "text": [
            "Val 24/25: loss 0.819, acc. 0.750: 100%|██████████| 25/25 [00:04<00:00,  5.39it/s]"
          ],
          "name": "stderr"
        },
        {
          "output_type": "stream",
          "text": [
            "Avg val loss: 0.196, acc: 0.920\n"
          ],
          "name": "stdout"
        },
        {
          "output_type": "stream",
          "text": [
            "Val 24/25: loss 0.099, acc. 1.000: 100%|██████████| 25/25 [00:04<00:00,  5.11it/s]"
          ],
          "name": "stderr"
        },
        {
          "output_type": "stream",
          "text": [
            "Avg val loss: 0.241, acc: 0.920\n"
          ],
          "name": "stdout"
        },
        {
          "output_type": "stream",
          "text": [
            "Val 24/25: loss 0.122, acc. 1.000: 100%|██████████| 25/25 [00:04<00:00,  5.54it/s]"
          ],
          "name": "stderr"
        },
        {
          "output_type": "stream",
          "text": [
            "Avg val loss: 0.181, acc: 0.940\n"
          ],
          "name": "stdout"
        },
        {
          "output_type": "stream",
          "text": [
            "Val 24/25: loss 0.076, acc. 1.000: 100%|██████████| 25/25 [00:04<00:00,  5.07it/s]"
          ],
          "name": "stderr"
        },
        {
          "output_type": "stream",
          "text": [
            "Avg val loss: 0.227, acc: 0.940\n"
          ],
          "name": "stdout"
        },
        {
          "output_type": "stream",
          "text": [
            "Val 24/25: loss 0.111, acc. 1.000: 100%|██████████| 25/25 [00:04<00:00,  5.47it/s]"
          ],
          "name": "stderr"
        },
        {
          "output_type": "stream",
          "text": [
            "Avg val loss: 0.220, acc: 0.900\n"
          ],
          "name": "stdout"
        },
        {
          "output_type": "stream",
          "text": [
            "Val 24/25: loss 0.214, acc. 1.000: 100%|██████████| 25/25 [00:04<00:00,  5.23it/s]"
          ],
          "name": "stderr"
        },
        {
          "output_type": "stream",
          "text": [
            "Avg val loss: 0.195, acc: 0.910\n"
          ],
          "name": "stdout"
        },
        {
          "output_type": "stream",
          "text": [
            "Val 24/25: loss 0.041, acc. 1.000: 100%|██████████| 25/25 [00:04<00:00,  5.31it/s]"
          ],
          "name": "stderr"
        },
        {
          "output_type": "stream",
          "text": [
            "Avg val loss: 0.205, acc: 0.910\n"
          ],
          "name": "stdout"
        },
        {
          "output_type": "stream",
          "text": [
            "Epoch 0: loss 0.0444, accuracy 1.000: 100%|██████████| 2475/2475 [1:10:19<00:00,  1.56s/it]"
          ],
          "name": "stderr"
        },
        {
          "output_type": "error",
          "ename": "ValueError",
          "evalue": "ignored",
          "traceback": [
            "\u001b[0;31m---------------------------------------------------------------------------\u001b[0m",
            "\u001b[0;31mValueError\u001b[0m                                Traceback (most recent call last)",
            "\u001b[0;32m<ipython-input-33-c93fb18ac37b>\u001b[0m in \u001b[0;36m<module>\u001b[0;34m()\u001b[0m\n\u001b[1;32m      1\u001b[0m scope(H=128, W=256, cutoff_length=10000, batch_size=4, num_epochs=1, \n\u001b[0;32m----> 2\u001b[0;31m       val_split=0.01, model_type='resnet-18')\n\u001b[0m",
            "\u001b[0;32m<ipython-input-32-c8031be8d961>\u001b[0m in \u001b[0;36mscope\u001b[0;34m(H, W, cutoff_length, batch_size, num_epochs, val_split, model_type)\u001b[0m\n\u001b[1;32m     79\u001b[0m \u001b[0;34m\u001b[0m\u001b[0m\n\u001b[1;32m     80\u001b[0m     \u001b[0;31m# Plot accuracy of training and validation set over time\u001b[0m\u001b[0;34m\u001b[0m\u001b[0;34m\u001b[0m\u001b[0;34m\u001b[0m\u001b[0m\n\u001b[0;32m---> 81\u001b[0;31m     \u001b[0ma\u001b[0m\u001b[0;34m,\u001b[0m \u001b[0mb\u001b[0m \u001b[0;34m=\u001b[0m \u001b[0mzip\u001b[0m\u001b[0;34m(\u001b[0m\u001b[0;34m*\u001b[0m\u001b[0mvalidations\u001b[0m\u001b[0;34m)\u001b[0m\u001b[0;34m\u001b[0m\u001b[0;34m\u001b[0m\u001b[0m\n\u001b[0m\u001b[1;32m     82\u001b[0m     \u001b[0mplt\u001b[0m\u001b[0;34m.\u001b[0m\u001b[0mplot\u001b[0m\u001b[0;34m(\u001b[0m\u001b[0mlosses\u001b[0m\u001b[0;34m,\u001b[0m \u001b[0mlabel\u001b[0m\u001b[0;34m=\u001b[0m\u001b[0;34m'train'\u001b[0m\u001b[0;34m)\u001b[0m\u001b[0;34m\u001b[0m\u001b[0;34m\u001b[0m\u001b[0m\n\u001b[1;32m     83\u001b[0m     \u001b[0mplt\u001b[0m\u001b[0;34m.\u001b[0m\u001b[0mplot\u001b[0m\u001b[0;34m(\u001b[0m\u001b[0ma\u001b[0m\u001b[0;34m,\u001b[0m \u001b[0mb\u001b[0m\u001b[0;34m,\u001b[0m \u001b[0mlabel\u001b[0m\u001b[0;34m=\u001b[0m\u001b[0;34m'val'\u001b[0m\u001b[0;34m)\u001b[0m\u001b[0;34m\u001b[0m\u001b[0;34m\u001b[0m\u001b[0m\n",
            "\u001b[0;31mValueError\u001b[0m: not enough values to unpack (expected 2, got 0)"
          ]
        }
      ]
    },
    {
      "metadata": {
        "id": "4I3g2iEd6sYI",
        "colab_type": "code",
        "colab": {}
      },
      "cell_type": "code",
      "source": [
        ""
      ],
      "execution_count": 0,
      "outputs": []
    }
  ]
}