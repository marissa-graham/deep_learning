{
  "nbformat": 4,
  "nbformat_minor": 0,
  "metadata": {
    "colab": {
      "name": "Lab 2 (Intro to Pytorch).ipynb",
      "version": "0.3.2",
      "provenance": [],
      "include_colab_link": true
    },
    "kernelspec": {
      "name": "python3",
      "display_name": "Python 3"
    },
    "accelerator": "GPU"
  },
  "cells": [
    {
      "cell_type": "markdown",
      "metadata": {
        "id": "view-in-github",
        "colab_type": "text"
      },
      "source": [
        "<a href=\"https://colab.research.google.com/github/marissa-graham/deep_learning/blob/master/Lab_2_(Intro_to_Pytorch).ipynb\" target=\"_parent\"><img src=\"https://colab.research.google.com/assets/colab-badge.svg\" alt=\"Open In Colab\"/></a>"
      ]
    },
    {
      "metadata": {
        "id": "i-ApZv6_PRJ5",
        "colab_type": "text"
      },
      "cell_type": "markdown",
      "source": [
        "Before you do ANYTHING else in this notebook, you need to check Runtime -> Change Runtime Type and make sure it's a GUI because you need a GUI, and switching gives you a new kernel."
      ]
    },
    {
      "metadata": {
        "id": "B1iJeaxfRSDG",
        "colab_type": "text"
      },
      "cell_type": "markdown",
      "source": [
        "## Install and import relevant modules"
      ]
    },
    {
      "metadata": {
        "id": "lTeVgKY5LenK",
        "colab_type": "code",
        "outputId": "d6eb4bb2-9fd9-43ab-9fa4-8157255891a8",
        "colab": {
          "base_uri": "https://localhost:8080/",
          "height": 160
        }
      },
      "cell_type": "code",
      "source": [
        "!pip3 install torch \n",
        "!pip3 install torchvision\n",
        "!pip3 install tqdm"
      ],
      "execution_count": 0,
      "outputs": [
        {
          "output_type": "stream",
          "text": [
            "Requirement already satisfied: torch in /usr/local/lib/python3.6/dist-packages (0.4.1)\n",
            "Requirement already satisfied: torchvision in /usr/local/lib/python3.6/dist-packages (0.2.1)\n",
            "Requirement already satisfied: pillow>=4.1.1 in /usr/local/lib/python3.6/dist-packages (from torchvision) (5.3.0)\n",
            "Requirement already satisfied: six in /usr/local/lib/python3.6/dist-packages (from torchvision) (1.11.0)\n",
            "Requirement already satisfied: torch in /usr/local/lib/python3.6/dist-packages (from torchvision) (0.4.1)\n",
            "Requirement already satisfied: numpy in /usr/local/lib/python3.6/dist-packages (from torchvision) (1.14.6)\n",
            "Requirement already satisfied: tqdm in /usr/local/lib/python3.6/dist-packages (4.28.1)\n"
          ],
          "name": "stdout"
        }
      ]
    },
    {
      "metadata": {
        "id": "p6cHvbq_KkDF",
        "colab_type": "code",
        "colab": {}
      },
      "cell_type": "code",
      "source": [
        "import torch\n",
        "import torch.nn as nn\n",
        "import torch.nn.functional as F\n",
        "import torch.optim as optim\n",
        "from torch.utils.data import Dataset, DataLoader\n",
        "import numpy as np\n",
        "import matplotlib.pyplot as plt\n",
        "from torchvision import transforms, utils, datasets\n",
        "from tqdm import tqdm\n",
        "import seaborn"
      ],
      "execution_count": 0,
      "outputs": []
    },
    {
      "metadata": {
        "id": "CdLBFs8VOiOJ",
        "colab_type": "code",
        "colab": {}
      },
      "cell_type": "code",
      "source": [
        "assert torch.cuda.is_available() "
      ],
      "execution_count": 0,
      "outputs": []
    },
    {
      "metadata": {
        "id": "ph29PFLwYZoP",
        "colab_type": "code",
        "outputId": "564a9d9c-1035-4836-aa2d-59fffced46b1",
        "colab": {
          "base_uri": "https://localhost:8080/",
          "height": 218
        }
      },
      "cell_type": "code",
      "source": [
        "t = torch.tensor(np.arange(15).reshape(5,3).astype('float32'))\n",
        "v = torch.tensor(np.array([1,2,0,2,0]).astype('float32'))\n",
        "print(t)\n",
        "print(v.size())\n",
        "shifted = t - torch.max(t,dim=1)[0].unsqueeze(1)\n",
        "#scores = torch.gather(shifted, 1, v.unsqueeze(1))\n",
        "print(shifted)\n",
        "#print(scores)\n",
        "e = torch.exp(shifted)\n",
        "print(torch.mean(torch.log(torch.sum(e,dim=1))))"
      ],
      "execution_count": 0,
      "outputs": [
        {
          "output_type": "stream",
          "text": [
            "tensor([[ 0.,  1.,  2.],\n",
            "        [ 3.,  4.,  5.],\n",
            "        [ 6.,  7.,  8.],\n",
            "        [ 9., 10., 11.],\n",
            "        [12., 13., 14.]])\n",
            "torch.Size([5])\n",
            "tensor([[-2., -1.,  0.],\n",
            "        [-2., -1.,  0.],\n",
            "        [-2., -1.,  0.],\n",
            "        [-2., -1.,  0.],\n",
            "        [-2., -1.,  0.]])\n",
            "tensor(0.4076)\n"
          ],
          "name": "stdout"
        }
      ]
    },
    {
      "metadata": {
        "id": "fai9eBXoROMq",
        "colab_type": "text"
      },
      "cell_type": "markdown",
      "source": [
        "## Follow along with video"
      ]
    },
    {
      "metadata": {
        "id": "HX_TCPG-5Nyg",
        "colab_type": "code",
        "colab": {}
      },
      "cell_type": "code",
      "source": [
        "class LinearNetwork(nn.Module):\n",
        "  \n",
        "  def __init__(self, dataset):\n",
        "    \"\"\"\n",
        "    dataset\n",
        "    \n",
        "    x is a Torch tensor object, which has a size method (not attribute)\n",
        "    out: output sizes\n",
        "    \n",
        "    Probably height, width for an image\n",
        "    \"\"\"\n",
        "    \n",
        "    super(LinearNetwork, self).__init__()\n",
        "    x, y = dataset[0]\n",
        "    c, h, w = x.size()\n",
        "    out = y.size(0)\n",
        "    \n",
        "    self.net = nn.Sequential(nn.Linear(c*h*w, out))\n",
        "  \n",
        "  def forward(self, x):\n",
        "    \"\"\"Forward computation graph.\"\"\"\n",
        "    \n",
        "    n, c, h, w = x.size() \n",
        "    flattened = x.view(n, c*h*w)\n",
        "    return self.net(flattened)\n",
        "    \n",
        "class FashionMNISTProcessedDataset(Dataset):\n",
        "  \n",
        "  def __init__(self, root, train=True):\n",
        "    \n",
        "    self.data = datasets.FashionMNIST(root, train=train, \n",
        "                                     transform=transforms.ToTensor(),\n",
        "                                     download=True)\n",
        "    \n",
        "  def __getitem__(self, i):\n",
        "    \n",
        "    x, y = self.data[i]\n",
        "    return x, y.unsqueeze(0).float()\n",
        "  \n",
        "  def __len__(self):\n",
        "    # To do overfit and stuff, don't return the whole thing? Modify somehow?\n",
        "    \n",
        "    # Tell you how long the dataset is\n",
        "    return len(self.data)"
      ],
      "execution_count": 0,
      "outputs": []
    },
    {
      "metadata": {
        "id": "k-zWJATo6Pt-",
        "colab_type": "text"
      },
      "cell_type": "markdown",
      "source": [
        "Load datasets?? Not sure where this is getting used anymore."
      ]
    },
    {
      "metadata": {
        "id": "L7PtdWoH6O4s",
        "colab_type": "code",
        "colab": {}
      },
      "cell_type": "code",
      "source": [
        "ds = datasets.FashionMNIST('/tmp/fashionmnist', train=True, \n",
        "                           transform=transforms.ToTensor(),\n",
        "                           download=True)"
      ],
      "execution_count": 0,
      "outputs": []
    },
    {
      "metadata": {
        "id": "sYXl_qBfbTYJ",
        "colab_type": "code",
        "outputId": "90d079db-bfb4-47c5-b7e9-df38d93fc5af",
        "colab": {
          "base_uri": "https://localhost:8080/",
          "height": 50
        }
      },
      "cell_type": "code",
      "source": [
        "train_dataset = FashionMNISTProcessedDataset('/tmp/fashionmnist', train=True)\n",
        "model = LinearNetwork(train_dataset)\n",
        "model.cuda()\n",
        "objective = torch.nn.MSELoss()\n",
        "optimizer = optim.SGD(model.parameters(), lr=1e-4)\n",
        "train_loader = DataLoader(train_dataset, batch_size=42, pin_memory=True)\n",
        "\n",
        "num_epochs = 2\n",
        "losses = []\n",
        "for epoch in range(num_epochs):\n",
        "  \n",
        "  loop = tqdm(total=len(train_loader), position=0)\n",
        "  \n",
        "  for x, y_truth in train_loader:\n",
        "    x, y_truth = x.cuda(async=True), y_truth.cuda()\n",
        "\n",
        "    optimizer.zero_grad()\n",
        "\n",
        "    y_hat = model(x)\n",
        "    loss = objective(y_hat, y_truth)\n",
        "    \n",
        "    loop.set_description('loss:{:.4f}'.format(loss.item()))\n",
        "    loop.update(1)\n",
        "    loss.backward()\n",
        "    optimizer.step()\n",
        "    losses.append(loss)\n",
        "  \n",
        "  loop.close()"
      ],
      "execution_count": 0,
      "outputs": [
        {
          "output_type": "stream",
          "text": [
            "loss:2.9249: 100%|██████████| 1429/1429 [00:16<00:00, 87.88it/s]\n",
            "loss:2.6612: 100%|██████████| 1429/1429 [00:15<00:00, 89.88it/s]\n"
          ],
          "name": "stderr"
        }
      ]
    },
    {
      "metadata": {
        "id": "tdKQi6GKgh4y",
        "colab_type": "code",
        "outputId": "59c91c36-6fd9-43f0-85f5-23e3ee6faf23",
        "colab": {
          "base_uri": "https://localhost:8080/",
          "height": 347
        }
      },
      "cell_type": "code",
      "source": [
        "# plot this\n",
        "loss_vals = [losses[i].item() for i in range(len(losses))]\n",
        "plt.plot(loss_vals)\n",
        "plt.show()"
      ],
      "execution_count": 0,
      "outputs": [
        {
          "output_type": "display_data",
          "data": {
            "image/png": "[encoded data removed]",
            "text/plain": [
              "<matplotlib.figure.Figure at 0x7f5cd54e0d68>"
            ]
          },
          "metadata": {
            "tags": []
          }
        }
      ]
    },
    {
      "metadata": {
        "id": "Km4ylXmMjHmZ",
        "colab_type": "text"
      },
      "cell_type": "markdown",
      "source": [
        "## My modified version"
      ]
    },
    {
      "metadata": {
        "id": "yEHAYcfGjUhN",
        "colab_type": "code",
        "colab": {}
      },
      "cell_type": "code",
      "source": [
        "class LinearNetwork(nn.Module):\n",
        "  \n",
        "  def __init__(self, dataset):\n",
        "    \n",
        "    super(LinearNetwork, self).__init__()\n",
        "    x, y = dataset[0]\n",
        "    c, h, w = x.size()\n",
        "    out = y.size(0)\n",
        "    \n",
        "    self.net = nn.Sequential(nn.Linear(c*h*w, 1000), \n",
        "                             nn.Sigmoid(), \n",
        "                             nn.Linear(1000,out))\n",
        "  \n",
        "  def forward(self, x):\n",
        "   \n",
        "    n, c, h, w = x.size()\n",
        "    flattened = x.view(n, c*h*w)\n",
        "    return self.net(flattened)\n",
        "    \n",
        "class FashionMNISTProcessedDataset(Dataset):\n",
        "  \n",
        "  def __init__(self, root, train=True):\n",
        "    \n",
        "    self.data = datasets.FashionMNIST(root, train=train, \n",
        "                                     transform=transforms.ToTensor(),\n",
        "                                     download=True)\n",
        "    self.e = torch.eye(10)\n",
        "    \n",
        "  def __getitem__(self, i):\n",
        "    \n",
        "    x, y = self.data[i]\n",
        "    return x, self.e[y].float()\n",
        "  \n",
        "  def __len__(self):\n",
        "    \n",
        "    # Do a really small batch so it overfits really bad\n",
        "    return 42\n",
        "    return len(self.data)"
      ],
      "execution_count": 0,
      "outputs": []
    },
    {
      "metadata": {
        "id": "BI0cuZ1sjHQb",
        "colab_type": "code",
        "outputId": "501e49c8-9ae5-4433-909e-5bca9b39aad3",
        "colab": {
          "base_uri": "https://localhost:8080/",
          "height": 238
        }
      },
      "cell_type": "code",
      "source": [
        "\n",
        "# For your own dataset, have to think about how to do test/train split\n",
        "train_dataset = FashionMNISTProcessedDataset('/tmp/fashionmnist', train=True)\n",
        "val_dataset = FashionMNISTProcessedDataset('/tmp/fashionmnist', train=False)\n",
        "model = LinearNetwork(train_dataset)\n",
        "model.cuda()\n",
        "objective = torch.nn.MSELoss()\n",
        "optimizer = optim.SGD(model.parameters(), lr=1e-4)\n",
        "train_loader = DataLoader(train_dataset, batch_size=42, pin_memory=True)\n",
        "val_loader = DataLoader(val_dataset, batch_size=42, pin_memory=True)\n",
        "val_batches = [(x, y_truth) for x, y_truth in val_loader]\n",
        "\n",
        "losses = []\n",
        "val_losses = []\n",
        "num_epochs = 1000\n",
        "loop = tqdm(total=len(train_loader)*1000, position=0)\n",
        "\n",
        "for epoch in range(num_epochs):\n",
        "  \n",
        "    batch_index = 0\n",
        "    for x, y_truth in train_loader:\n",
        "        \n",
        "        print(x.size(), y.size())\n",
        "        assert 0==1\n",
        "\n",
        "\n",
        "        x, y_truth = x.cuda(async=True), y_truth.cuda()\n",
        "        optimizer.zero_grad()\n",
        "\n",
        "        y_hat = model(x)\n",
        "        loss = objective(y_hat, y_truth)\n",
        "        losses.append(loss)\n",
        "\n",
        "        vx, vy_truth = val_batches[batch_index]\n",
        "        vx, vy_truth = vx.cuda(async=True), vy_truth.cuda()\n",
        "        vhat = model(vx)\n",
        "        vloss = objective(vhat, vy_truth)\n",
        "        val_losses.append(vloss)\n",
        "        batch_index += 1\n",
        "\n",
        "        #loop.set_description('loss:{:.4f}'.format(loss.item()))\n",
        "        loop.update(1)\n",
        "\n",
        "        loss.backward()\n",
        "        optimizer.step()\n",
        "\n",
        "loop.close()"
      ],
      "execution_count": 0,
      "outputs": [
        {
          "output_type": "error",
          "ename": "NameError",
          "evalue": "ignored",
          "traceback": [
            "\u001b[0;31m---------------------------------------------------------------------------\u001b[0m",
            "\u001b[0;31mNameError\u001b[0m                                 Traceback (most recent call last)",
            "\u001b[0;32m<ipython-input-5-094efadfd28c>\u001b[0m in \u001b[0;36m<module>\u001b[0;34m()\u001b[0m\n\u001b[0;32m----> 1\u001b[0;31m \u001b[0mx\u001b[0m\u001b[0;34m,\u001b[0m \u001b[0my\u001b[0m \u001b[0;34m=\u001b[0m \u001b[0mds\u001b[0m\u001b[0;34m[\u001b[0m\u001b[0;36m0\u001b[0m\u001b[0;34m]\u001b[0m\u001b[0;34m\u001b[0m\u001b[0m\n\u001b[0m\u001b[1;32m      2\u001b[0m \u001b[0;34m\u001b[0m\u001b[0m\n\u001b[1;32m      3\u001b[0m \u001b[0mprint\u001b[0m\u001b[0;34m(\u001b[0m\u001b[0mx\u001b[0m\u001b[0;34m.\u001b[0m\u001b[0msize\u001b[0m\u001b[0;34m(\u001b[0m\u001b[0;34m)\u001b[0m\u001b[0;34m,\u001b[0m \u001b[0my\u001b[0m\u001b[0;34m.\u001b[0m\u001b[0msize\u001b[0m\u001b[0;34m(\u001b[0m\u001b[0;34m)\u001b[0m\u001b[0;34m)\u001b[0m\u001b[0;34m\u001b[0m\u001b[0m\n\u001b[1;32m      4\u001b[0m \u001b[0;32massert\u001b[0m \u001b[0;36m0\u001b[0m\u001b[0;34m==\u001b[0m\u001b[0;36m1\u001b[0m\u001b[0;34m\u001b[0m\u001b[0m\n\u001b[1;32m      5\u001b[0m \u001b[0;34m\u001b[0m\u001b[0m\n",
            "\u001b[0;31mNameError\u001b[0m: name 'ds' is not defined"
          ]
        }
      ]
    },
    {
      "metadata": {
        "id": "4J3TUuZC1uYa",
        "colab_type": "text"
      },
      "cell_type": "markdown",
      "source": [
        "Green curve is the loss on the validation set, blue is the loss on the training set. Clear overfitting."
      ]
    },
    {
      "metadata": {
        "id": "HHWoeB6Jzs-Z",
        "colab_type": "code",
        "outputId": "bd7823f1-aacf-4a88-edc5-3b16b8f923dd",
        "colab": {
          "base_uri": "https://localhost:8080/",
          "height": 347
        }
      },
      "cell_type": "code",
      "source": [
        "domain = range(len(losses))\n",
        "loss_list = np.array([losses[i].item() for i in range(len(losses))])\n",
        "val_loss_list = np.array([val_losses[i].item() for i in range(len(losses))])\n",
        "plt.plot(domain, loss_list, domain, val_loss_list)\n",
        "plt.show()"
      ],
      "execution_count": 0,
      "outputs": [
        {
          "output_type": "display_data",
          "data": {
            "image/png": "[encoded data removed]",
            "text/plain": [
              "<matplotlib.figure.Figure at 0x7f5ccf6f0978>"
            ]
          },
          "metadata": {
            "tags": []
          }
        }
      ]
    },
    {
      "metadata": {
        "id": "z6SeqK6x12mO",
        "colab_type": "text"
      },
      "cell_type": "markdown",
      "source": [
        "Especially as we increase the number of epochs."
      ]
    },
    {
      "metadata": {
        "id": "pD45i1ZI0Swd",
        "colab_type": "code",
        "outputId": "d9dab8d1-308d-4cb6-e54e-64f9f7921f71",
        "colab": {
          "base_uri": "https://localhost:8080/",
          "height": 347
        }
      },
      "cell_type": "code",
      "source": [
        "a = 250\n",
        "b = 1000\n",
        "plt.plot(domain[a:b], loss_list[a:b], domain[a:b], val_loss_list[a:b])\n",
        "plt.show()"
      ],
      "execution_count": 0,
      "outputs": [
        {
          "output_type": "display_data",
          "data": {
            "image/png": "[encoded data removed]",
            "text/plain": [
              "<matplotlib.figure.Figure at 0x7f5ccc4bdcc0>"
            ]
          },
          "metadata": {
            "tags": []
          }
        }
      ]
    },
    {
      "metadata": {
        "id": "AavqhS5QlHVF",
        "colab_type": "code",
        "outputId": "f939b1c6-e455-4e67-8061-1b1ea44331e1",
        "colab": {
          "base_uri": "https://localhost:8080/",
          "height": 34
        }
      },
      "cell_type": "code",
      "source": [
        "# Number of parameters\n",
        "np.prod(np.array(list(model.parameters())[0].size()))"
      ],
      "execution_count": 0,
      "outputs": [
        {
          "output_type": "execute_result",
          "data": {
            "text/plain": [
              "784000"
            ]
          },
          "metadata": {
            "tags": []
          },
          "execution_count": 76
        }
      ]
    }
  ]
}